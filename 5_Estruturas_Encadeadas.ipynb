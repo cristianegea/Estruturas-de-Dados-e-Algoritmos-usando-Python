{
  "nbformat": 4,
  "nbformat_minor": 0,
  "metadata": {
    "colab": {
      "name": "5. Estruturas Encadeadas.ipynb",
      "provenance": [],
      "collapsed_sections": [],
      "toc_visible": true,
      "authorship_tag": "ABX9TyN95S2hsx8bC8AjFXt2D4gH",
      "include_colab_link": true
    },
    "kernelspec": {
      "name": "python3",
      "display_name": "Python 3"
    },
    "language_info": {
      "name": "python"
    }
  },
  "cells": [
    {
      "cell_type": "markdown",
      "metadata": {
        "id": "view-in-github",
        "colab_type": "text"
      },
      "source": [
        "<a href=\"https://colab.research.google.com/github/cristianegea/Estruturas-de-Dados-e-Algoritmos-usando-Python/blob/main/5_Estruturas_Encadeadas.ipynb\" target=\"_parent\"><img src=\"https://colab.research.google.com/assets/colab-badge.svg\" alt=\"Open In Colab\"/></a>"
      ]
    },
    {
      "cell_type": "markdown",
      "metadata": {
        "id": "zj3HHLlFKQpG"
      },
      "source": [
        "Array:\n",
        "\n",
        "* Container de sequência mais básica utilizada pata armazenar e acessar uma coleção de dados.\n",
        "\n",
        "* Fornece acesso fácil e direto aos elementos individuais.\n",
        "\n",
        "* É suportado ao nível de hardware.\n",
        "\n",
        "* É limitado em sua funcionalidade.\n",
        "\n",
        "O array e a lista no Python podem ser utilizados para implementar diferentes tipos abstratos de dados. Eles armazenam dados em ordem linear e fornecem fácil acesso a seus elementos. A busca binária pode ser utilizada com ambas as estruturas quando os itens são armazenados em ordem de classificação para permitir buscas rápidas.\n",
        "\n",
        "Desvantagens na utilização de array e lista do Python:\n",
        "\n",
        "* As operações de inserção e remoção requerem que os itens sejam deslocados para abrir espaço ou fechar uma lacuna.\n",
        "\n",
        "* O tamanho do array é fixo e não pode ser alterado.\n",
        "\n",
        "* Visto que os elementos de uma lista do Python são armazenados em um array, uma expansão requer a criação de um novo array maior, em que os elementos do array original devem ser copiados.\n",
        "\n",
        "* Os elementos de um array são armazenados em bytes contíguos da memória, não importando o tamanho do array. A cada momento em que um array é criado, o programa deve localizar e alocar um bloco de memória grande o suficiente para armazenar o array completo.\n",
        "\n",
        "Lista encadeada:\n",
        "\n",
        "* Pode ser utilizada para armazenar uma coleção em ordem linear.\n",
        "\n",
        "* Melhora a construção e a gestão de um array e uma lista do Python, pois requerem menor alocação de memória e não requer deslocamento de elementos para inserções e remoções.\n",
        "\n",
        "* Não é adequado para qualquer problema de armazenamento de dados.\n",
        "\n",
        "Lista com encadeamento único: estrutura linear em que a travessia começa no início e progride, elemento a elemento, para o fim."
      ]
    },
    {
      "cell_type": "markdown",
      "metadata": {
        "id": "EBFtgCsuQL5t"
      },
      "source": [
        "# 1. Introdução"
      ]
    },
    {
      "cell_type": "code",
      "metadata": {
        "id": "rddhHsmKQh0Q"
      },
      "source": [
        "# Classe básica contendo um único campo de dado para criação de um nó\n",
        "class ListNode:\n",
        "  def __init__(self,data):\n",
        "    self.data = data"
      ],
      "execution_count": 1,
      "outputs": []
    },
    {
      "cell_type": "markdown",
      "metadata": {
        "id": "7FBWOYt3Qsj-"
      },
      "source": [
        "A partir desta estrutura é possível criar diversas instâncias desta classe, cada uma armazenando dados."
      ]
    },
    {
      "cell_type": "code",
      "metadata": {
        "id": "BBdrbNLTQ5I1"
      },
      "source": [
        "a = ListNode( 11 )\n",
        "b = ListNode( 52 )\n",
        "c = ListNode( 18 )"
      ],
      "execution_count": 2,
      "outputs": []
    },
    {
      "cell_type": "code",
      "metadata": {
        "id": "miDj5e43Q_y7"
      },
      "source": [
        "# Adicionando um 2º campo de dado à classe ListNode\n",
        "class ListNode:\n",
        "  # um nó contém pelo menos 2 informações: sobre o dado e sobre a ligação com outro nó\n",
        "  def __init__(self,data):\n",
        "    # informação sobre o próprio dado\n",
        "    self.data = data\n",
        "    # informação sobre a ligação com outro nó\n",
        "    self.next = None      # inicializa com a referência Null"
      ],
      "execution_count": 3,
      "outputs": []
    },
    {
      "cell_type": "code",
      "metadata": {
        "id": "vsa-nJMjRnRo"
      },
      "source": [
        "# Atribuição do campo subsequente ao objeto \"a\"\n",
        "a.next = b\n",
        "\n",
        "# Atribuição do campo subsequente ao objeto \"b\"\n",
        "b.next = c"
      ],
      "execution_count": 5,
      "outputs": []
    },
    {
      "cell_type": "code",
      "metadata": {
        "colab": {
          "base_uri": "https://localhost:8080/"
        },
        "id": "ZiKJ7VmFRuB1",
        "outputId": "5ee3bda7-fcb9-485e-f901-fc92ac818d92"
      },
      "source": [
        "# O resultado é uma estrutura de lista encadeada\n",
        "# Os 2 objetos previamente apontados pela \"b\" e \"c\" ainda são acessíveis via \"a\"\n",
        "print(a.data)\n",
        "print(a.next.data)\n",
        "print(a.next.next.data)"
      ],
      "execution_count": 6,
      "outputs": [
        {
          "output_type": "stream",
          "text": [
            "11\n",
            "52\n",
            "18\n"
          ],
          "name": "stdout"
        }
      ]
    },
    {
      "cell_type": "markdown",
      "metadata": {
        "id": "pGFerPLnSRu-"
      },
      "source": [
        "Uma estrutura encadeada contém uma coleçaõ de objetos chamados de `nós`, com cada um contendo o dado e pelo menos 1 referência (ou link) a outro `nó`.\n",
        "\n",
        "Uma lista encadeada é uma estrutura encadeada em que os nós estão conectados em sequência para formar uma lista linear.\n",
        "\n",
        "O último nó da lista é comumente chamado de `tail node`, indicado por uma referência de link null.\n",
        "\n",
        "A maioria dos nóis na lista não possuem nomes e são simplesmente referenciados via campo de ligação do nó anterior.\n",
        "\n",
        "O primeiro nó na lista deve ser nomeado ou referenciado por uma variável externa, pois fornece um ponto de entrada para a lista encadeada. Esta variável é comumentemente conhecida como `head pointer`, ou `head reference`.\n",
        "\n",
        "Uma lista encadeada também pode estar vazia, que indica que `head reference` é nula.\n",
        "\n",
        "Estruturas encadeadas são construídas utilizando variáveis e objetos. A lista encadeada é uma das diversas estruturas encadeadas que pode ser criada. Se mais encadeamentos são adicionadas à cada nó, é possível conectar os nós para formar qualquer tipo de configuração necessária.\n",
        "\n",
        "Uma lista encadeada é uma estrutura de dados que pode ser utilizada para implementar qualquer número de tipos de abstração de dados."
      ]
    },
    {
      "cell_type": "markdown",
      "metadata": {
        "id": "yrcG9-f1dv1I"
      },
      "source": [
        "# 2. Lista com encadeamento único\n",
        "\n",
        "Uma lista com encadeamento único é uma lista encadeada em que cada nó contém um único campo de ligação e permite uma completa travessia a partir de um primeiro nó distintivo até o último.\n",
        "\n",
        "Para a implementação de diversas operações realizadas pelas listas encadeadas, o código assumirá a existência de `head reference` e utiliza a classe `ListNode` definida anteriormente.\n",
        "\n",
        "Os campos de dados da classe `ListNode` serão acessados diretamente, mas sua classe não pode ser utilizada fora do módulo no qual está definida, pois se destina apenas ao uso pela implementação de lista vinculada."
      ]
    },
    {
      "cell_type": "code",
      "metadata": {
        "id": "LK8GC64-iW-o"
      },
      "source": [
        "# Traversing a linked list.\n",
        "def traversal( head ):\n",
        "  # O processo tem início acessando uma referência externa curNode para apontar para o 1º nó da lista\n",
        "  curNode = head\n",
        "  while curNode is not None :\n",
        "    # Depois de entrar no loop, o valor armazenado no 1º nó é impresso acessando o componente de\n",
        "    # dados armazenado no nó usando a referência externa \n",
        "    print(curNode.data)\n",
        "    # A referência externa é avançada para o próximo nó, acessando o valor do campo de ligação do nó atual\n",
        "    curNode = curNode.next\n",
        "\n",
        "    # A iteração do loop continua até que todos os nós da lista tenham sido acessados\n",
        "    # A finalização da travessia é determinada quando curNode torna-se Null\n",
        "    # Depois de acessar o último nó na lista, curNode é avançado ao próximo nó (mas não há próximo nó)\n",
        "    # curBode é atribuído a None a partir do campo next do último nó"
      ],
      "execution_count": 8,
      "outputs": []
    },
    {
      "cell_type": "markdown",
      "metadata": {
        "id": "P1Tad2_Wk1Nt"
      },
      "source": [
        "Uma operação de busca linear pode ser realizada sobre uma lista encadeada. Este processo é bastante similar à travessia. A única diferença é que o loop pode terminar mais cedo, se o valor alvo for localizado dentro da lista."
      ]
    },
    {
      "cell_type": "code",
      "metadata": {
        "id": "M5p1ObRnko_w"
      },
      "source": [
        "# Searching a linked list\n",
        "def unorderedSearch( head, target ):\n",
        "  curNode = head\n",
        "  while curNode is not None and curNode.data != target :\n",
        "    curNode= curNode.next\n",
        "  return curNode is not None"
      ],
      "execution_count": 9,
      "outputs": []
    },
    {
      "cell_type": "markdown",
      "metadata": {
        "id": "KQrYb1tVlQ_F"
      },
      "source": [
        "É importante que seja realizado um teste para uma referência `curNode` nula antes de tentar examinar o conteúdo do nó. Se o item não é encontrado na lista, `curNode` será nulo quando o fim da lista for alcançado. Se tentar avaliar o campo `data` da referência nula, uma exceção surgirá, resultando em erro.\n",
        "\n",
        "Quando a operação de busca é implementada para a lista encadeada, é preciso que seja garantido que o trabalho seja realizado tanto em listas vazias como em listas não vazias. Neste caso, não é necessário realizar um teste separado para determinar se a lista está vazia. Isso é feito automaticamente por meio da verificação da variável de referência da travessia como condição do loop. Se a lista estiver vazia, `curNode` seria atribuído para `None` inicialmente e o loop nunca seria completado.\n",
        "\n",
        "O pior caso da operação de busca de uma lista encadeada ocorre quando o item alvo não está na lista."
      ]
    },
    {
      "cell_type": "code",
      "metadata": {
        "id": "0elGzOsvn2de"
      },
      "source": [
        "# Prepending a node to the linked list.\n",
        "# Given the head pointer, prepend an item to an unsorted linked list.\n",
        "newNode = ListNode( item )\n",
        "newNode.next = head\n",
        "head = newNode"
      ],
      "execution_count": null,
      "outputs": []
    },
    {
      "cell_type": "markdown",
      "metadata": {
        "id": "bZKgOmKunjSL"
      },
      "source": [
        "Quando se trabalha com uma lista não ordenada, novos valores podem ser inseridos em qualquer ponto dentro da lista. Visto que somente é mantida `head reference` como parte da estrutura da lista, é possível adicionar novos itens com poucos esforços.\n",
        "\n",
        "A adição de um item no início da lista requer diversas etapas. Primeiro, é preciso criar um novo nó para armazenar o novo valor e então atribuir seu campo `next` ao ponto do nó atual no início da lista.\n",
        "\n",
        "Então, o `head` é ajustado para apontar para o novo nó, visto que agora é o primeiro nó da lista.\n",
        "\n",
        "É importante, em primeiro lugar, que o novo nó seja vinculado à lista antes de modificar a `head reference`. Caso contrário, pode ocorrer a perda de referência externa da lista e, consequentemente, perda da própria lista."
      ]
    },
    {
      "cell_type": "code",
      "metadata": {
        "id": "iJmd2ND-rvI9"
      },
      "source": [
        "# Removing a node from a linked list.\n",
        "# Given the head reference, remove a target from a linked list.\n",
        "predNode = None\n",
        "curNode = head\n",
        "while curNode is not None and curNode.data != target :\n",
        "  predNode = curNode\n",
        "  curNode = curNode.next\n",
        "\n",
        "if curNode is not None :\n",
        "  if curNode is head :\n",
        "    head = curNode.next\n",
        "  else :\n",
        "    predNode.next = curNode.next"
      ],
      "execution_count": null,
      "outputs": []
    },
    {
      "cell_type": "markdown",
      "metadata": {
        "id": "aNHpIWhhsGvG"
      },
      "source": [
        "É possível realizar a remoção em uma lista encadeada removendo ou desvinculando o nó que contém determinado item.\n",
        "\n",
        "Primeiro, deve ser localizado o nó contendo o valor alvo e posicionar uma variável de referência externa apontando para ele. Depois de encontrar o nó, ele deve ser desvinculado da lista, o que envolve ajustar o campo de link do predecessor do nó para apontar para seu sucessor. O campo de ligação do nó é também removido atribuindo-o à `None`.\n",
        "\n",
        "A atribuição do sucessor do nó é realizada por meior da ligação `next`do nó. Contudo, é preciso também atribuir o predecessor do nó a fim de mudar sua ligação. A única forma de fazer isso é apontar outra referência externa simultaneamente durante a busca para determinado nó.\n",
        "\n",
        "Remover o primeiro nó da lista é um caso especial, visto que o ponteiro de `head` faz referência a este nó. Não há predecessor que tem que ser religado, mas `head reference` deve ser ajustada para apontar para o próximo nó. \n",
        "\n",
        "A referência externa `curNode` é inicialmente atribuída ao primeiro nó na lista, semelhante ao realizado nas operaões de busca e de travessia. A referência externa `predNode` é atribuída à `None`, uma vez que não há ´redecessor para o 1º nó na lista.\n",
        "\n",
        "Um loop é utilizado para apontar as 2 variáveis de referência externa temporárias. À medida que a referência `curNode` é movida ao longo da lista no corpo do loop, a referência `predNone` segue atrás. Portanto, `predNode` deve ser atribuído para referenciar o mesmo nó que `curNode` antes do avanço de `curNode` para referenciar o próximo nó.\n",
        "\n",
        "Depois de posicionar as 2 referências externas, há 3 possíveis condições:\n",
        "\n",
        "* o item não está na lista\n",
        "\n",
        "* o item está no 1º nó na lista\n",
        "\n",
        "* o item está em outro lugar na lista\n",
        "\n",
        "Se o alvo não está na list, `curNode` será nulo, sendo avaliado como `None` por meio do campo de ligação do último nó.\n",
        "\n",
        "Para determinar se o alvo está no primeiro nó, é possível comparar `curNode` com `head` e determinar se referem-se ao mesmo nó. Em caso afirmativo, `head` é apontado para o próximo nó na lista.\n",
        "\n",
        "Se o alvo está em qualquer lugar na lista, é realizado o ajuste do campo de ligação do nó referenciado por `predNode` para apontar para o nó seguinte ao referenciado por `curNode`."
      ]
    }
  ]
}