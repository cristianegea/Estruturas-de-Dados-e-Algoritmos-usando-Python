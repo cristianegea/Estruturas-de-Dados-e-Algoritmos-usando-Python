{
  "nbformat": 4,
  "nbformat_minor": 0,
  "metadata": {
    "colab": {
      "name": "6. Pilhas.ipynb",
      "provenance": [],
      "collapsed_sections": [],
      "toc_visible": true,
      "authorship_tag": "ABX9TyPf9JZ58jb3iAUeTku8u4WU",
      "include_colab_link": true
    },
    "kernelspec": {
      "name": "python3",
      "display_name": "Python 3"
    },
    "language_info": {
      "name": "python"
    }
  },
  "cells": [
    {
      "cell_type": "markdown",
      "metadata": {
        "id": "view-in-github",
        "colab_type": "text"
      },
      "source": [
        "<a href=\"https://colab.research.google.com/github/cristianegea/Estruturas-de-Dados-e-Algoritmos-usando-Python/blob/main/6_Pilhas.ipynb\" target=\"_parent\"><img src=\"https://colab.research.google.com/assets/colab-badge.svg\" alt=\"Open In Colab\"/></a>"
      ]
    },
    {
      "cell_type": "markdown",
      "metadata": {
        "id": "fW43uIpibEjw"
      },
      "source": [
        "# 1. TAD Pilha\n",
        "\n",
        "Uma pilha é utilizada para armazenar os dados tal que o último item inserido é o primeiro a ser removido (utiliza o protocolo tipo LIFO - último a entrar e primeiro a sair). \n",
        "\n",
        "A pilha é uma estrutura de dados linear em que novos itens são adicionados ou itens existentes são removidos a partir do mesmo final, comumentemente referenciado como o topo da pilha (o oposto ao final é conhecido como base).\n",
        "\n",
        "Uma pilha é uma estrutura de dados que armazena uma coleção linear de itens com acesso limitado à LIFO. A adição e a remoção de itens está restrita a um final conhecido como topo da pilha.\n",
        "\n",
        "Uma pilha vazia é um container sem itens.\n",
        "\n",
        "TAD pilha\n",
        "\n",
        "* `Stack()`: cria uma pilha vazia\n",
        "\n",
        "* `isEmpty()`: retorna um valor booleano indicando se a lista está ou não vazia\n",
        "\n",
        "* `length()`: retorna o número de itens na pilha\n",
        "\n",
        "* `pop()`: remove e retorna o item do topo da pilha (caso a pilha não esteja vazia). Não é possível remover itens a partir de uma pilha vazia.\n",
        "\n",
        "* `peek()`: retorna uma referência ao item no topo de uma pilha não vazia sem removê-la.\n",
        "\n",
        "* `push(item)`: adiciona determinado `item` no topo da pilha."
      ]
    },
    {
      "cell_type": "markdown",
      "metadata": {
        "id": "2Ksk0L1xe8_t"
      },
      "source": [
        "# 2. Implementando uma pilha"
      ]
    },
    {
      "cell_type": "markdown",
      "metadata": {
        "id": "Ftlmzq9lfBU3"
      },
      "source": [
        "## 2.1. Utilizando uma lista Python\n",
        "\n",
        "A primeira decisão a ser feita é saber qual extremidade será utilizada como topo e qual será utilizada como base de uma pilha.\n",
        "\n",
        "As operações `pop()` e `peek()` somente podem ser utilizadas com uma pilha não vazia. Para garantir, primeiro declara-se que a pilha não está vazia antes de realizar determinada operação.\n",
        "\n",
        "Com a implementação em lista Python é mais eficiente utilizar o final da lista como o topo da pilha."
      ]
    },
    {
      "cell_type": "code",
      "metadata": {
        "id": "jcpYWN-Uf-3q"
      },
      "source": [
        "# Implementation of the Stack ADT using a Python list.\n",
        "class Stack :\n",
        "  # Creates an empty stack.\n",
        "  def __init__( self ):\n",
        "    self._theItems = list()\n",
        "  \n",
        "  # Returns True if the stack is empty or False otherwise.\n",
        "  def isEmpty( self ):\n",
        "    return len( self ) == 0\n",
        "  \n",
        "  # Returns the number of items in the stack\n",
        "  def __len__ ( self ):\n",
        "    return len( self._theItems )\n",
        "  \n",
        "  # Returns the top item on the stack without removing it\n",
        "  def peek( self ):\n",
        "    assert not self.isEmpty(), \"Cannot peek at an empty stack\"\n",
        "    return self._theItems[-1]\n",
        "  \n",
        "  # Removes and returns the top item on the stack.\n",
        "  def pop( self ):\n",
        "    assert not self.isEmpty(), \"Cannot pop from an empty stack\"\n",
        "    return self._theItems.pop()\n",
        "  \n",
        "  # Push an item onto the top of the stack.\n",
        "  def push( self, item ):\n",
        "    self._theItems.append( item )"
      ],
      "execution_count": null,
      "outputs": []
    },
    {
      "cell_type": "markdown",
      "metadata": {
        "id": "NB-yq2DMgdba"
      },
      "source": [
        "## 2.2. Utilizando uma lista encadeada\n",
        "\n",
        "A implementação baseada em lista Python não pode ser a melhor escolha para pilhas com um grande número de operações `push` e `pop`.\n",
        "\n",
        "Para utilizar uma lista encadeada é preciso decidir como a estrutura da pilha será representada.\n",
        "\n",
        "Com a lista encadeada, o início da lista fornece a representação mais eficiente para o topo da pilha."
      ]
    },
    {
      "cell_type": "code",
      "metadata": {
        "id": "KrzcMujTjFSK"
      },
      "source": [
        "# Implementation of the Stack ADT using a singly linked list.\n",
        "class Stack :\n",
        "  # A classe constutor cria 2 instâncias para cada Stack\n",
        "  # Creates an empty stack.\n",
        "  def __init__( self ):\n",
        "    # # head reference para manter a lista encadeada\n",
        "    self._top = None\n",
        "    # valor inteiro para manter o controle do número de itens na pilha\n",
        "    # Esta sujeito a ajustes quando itens são inseridos ou removidos da pilha\n",
        "    self._size = 0\n",
        "  \n",
        "  # Returns True if the stack is empty or False otherwise.\n",
        "  def isEmpty( self ):\n",
        "    return self._top is None\n",
        "  \n",
        "  # Returns the number of items in the stack.\n",
        "  def __len__( self ):\n",
        "    return self._size\n",
        "  \n",
        "  # Returns the top item on the stack without removing it.\n",
        "  def peek( self ):\n",
        "    assert not self.isEmpty(), \"Cannot peek at an empty stack\"\n",
        "    return self._top.item\n",
        "  \n",
        "  # Removes and returns the top item on the stack.\n",
        "  # O método pop sempre remove o primeiro nó da lista\n",
        "  def pop( self ):\n",
        "    assert not self.isEmpty(), \"Cannot pop from an empty stack\"\n",
        "    node = self._top\n",
        "    self.top = self._top.next\n",
        "    self._size -= 1\n",
        "    return node.item\n",
        "  \n",
        "  # Pushes an item onto the top of the stack.\n",
        "  def push( self, item ) :\n",
        "    # Adicionando um nó a uma lista encadeada \n",
        "    self._top = _StackNode( item, self._top )\n",
        "    self._size += 1\n",
        "  \n",
        "  # The private storage class for creating stack nodes\n",
        "  # A classe é utilizada para criar os nós da lista encadeada\n",
        "  class _StackNode :\n",
        "    def __init__( self, item, link ) :\n",
        "      self.item = item\n",
        "      # O argumento link é utilizado para inicializar o campo next do novo nó\n",
        "      self.next = link"
      ],
      "execution_count": null,
      "outputs": []
    }
  ]
}