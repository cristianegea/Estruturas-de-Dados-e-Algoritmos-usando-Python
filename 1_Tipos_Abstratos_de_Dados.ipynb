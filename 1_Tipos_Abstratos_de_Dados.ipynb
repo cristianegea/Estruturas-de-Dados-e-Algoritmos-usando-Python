{
  "nbformat": 4,
  "nbformat_minor": 0,
  "metadata": {
    "colab": {
      "name": "1. Tipos Abstratos de Dados.ipynb",
      "provenance": [],
      "collapsed_sections": [],
      "toc_visible": true,
      "authorship_tag": "ABX9TyMXlZkHDsMzan6OPrAoUSMB",
      "include_colab_link": true
    },
    "kernelspec": {
      "name": "python3",
      "display_name": "Python 3"
    },
    "language_info": {
      "name": "python"
    }
  },
  "cells": [
    {
      "cell_type": "markdown",
      "metadata": {
        "id": "view-in-github",
        "colab_type": "text"
      },
      "source": [
        "<a href=\"https://colab.research.google.com/github/cristianegea/Estruturas-de-Dados-e-Algoritmos-usando-Python/blob/main/1_Tipos_Abstratos_de_Dados.ipynb\" target=\"_parent\"><img src=\"https://colab.research.google.com/assets/colab-badge.svg\" alt=\"Open In Colab\"/></a>"
      ]
    },
    {
      "cell_type": "markdown",
      "metadata": {
        "id": "6iVK7BEtSIwl"
      },
      "source": [
        "**Algoritmos**:\n",
        "\n",
        "* São sequências de instruções para solucionar problemas em um montante finito de tempo.\n",
        "\n",
        "* São implementados traduzindo as instruções passo a passo em um programa de computador que pode ser executado por um computador.\n",
        "\n"
      ]
    },
    {
      "cell_type": "markdown",
      "metadata": {
        "id": "WkN9cURiVKD0"
      },
      "source": [
        "# 1. Introdução\n",
        "\n",
        "Os itens de dados são representados dentro de um computador como uma sequência de digitos binários. Apesar de parecerem semelhantes, possuem diferentes significados (os computadores podem armazenar e manipular diferentes tipos de dados).\n",
        "\n",
        "Para distinguir os diferentes tipos de dados, o termo \"tipo\" é frtequentemente utilizado para referenciar uma coleção de valores e o termo \"tipo de dado\" é utilizado para referenciar um determinado tipo, em conjunto com uma coleção de operações para manipulação de valores de determinado tipo.\n",
        "\n",
        "**Tipos de dados simples**: valores que estão, em sua maioria, na forma básica e não podem ser decompostos em partes menores. Ex.: tipos inteiros e reais são valores numéricos simples.\n",
        "\n",
        "**Tipos de dados complexos**: são construídos a partir de múltiplos componentes (tipos simples ou outros tipos complexos). Ex.: objetos, strings, listas e dicionários."
      ]
    },
    {
      "cell_type": "markdown",
      "metadata": {
        "id": "Abgze6ZoVMKk"
      },
      "source": [
        "## 1.1. Abstrações\n",
        "\n",
        "**Abstração**: mecanismo para separar as propriedades e restringir o foco sobre aquelas relevantes no contexto atual.\n",
        "\n",
        "O usuário da abstração não possui conhecimento de todos os detalhes na utilização do objeto, mas somente os detalhes relevantes para a tarefa ou problema atual.\n",
        "\n",
        "Tipos de abstração:\n",
        "\n",
        "* Abstração procedural: uso de uma função ou método sabendo o que faz, mas ignorando como é realizado.\n",
        "\n",
        "* Abstração de dados: separação das propriedades de um tipo de dado (seus valores e operações) a partir da implementação desse tipo de dado."
      ]
    },
    {
      "cell_type": "markdown",
      "metadata": {
        "id": "fRSXxEViY4h0"
      },
      "source": [
        "## 1.2. Tipo de Abstração de Dados (TAD)\n",
        "\n",
        "Tipo de Abstração de Dados:\n",
        "\n",
        "* Tipo de dado definido pelo programador que especifica um conjunto de valores de dados e uma coleção bem definida de operações que podem ser executados nesses valores.\n",
        "\n",
        "* É definido independentemente de sua implementação, permitindo focar no uso do tipo de dado em vez de como é a sua implementação.\n",
        "\n",
        "A separação realizada pelo TAD pode ser vista como processo de ocultar informações. Neste sentido, Ao ocultar os detalhes de implementação e exigir que os ADTs sejam acessados por meio de uma interface, é possível trabalhar com uma abstração e focar na funcionalidade que o ADT fornece, em vez de como essa funcionalidade é implementada. \n",
        "\n",
        "Os usuários de programas interagem com instâncias do TAD invocando operações definidas em sua interface. O conjunto de operações podem ser agrupadas em 4 categorias:\n",
        "\n",
        "* Construtores: criam e inicializam novas instâncias do TAD.\n",
        "\n",
        "* Assessores: retornam os dados contidos em uma instância sem modifica-los.\n",
        "\n",
        "* Mutadores: modificam os conteúdos de uma instância TAD.\n",
        "\n",
        "* Iteratores: processam componentes de dados individuais sequencialmente.\n",
        "\n",
        "Vantagens de se utilizar TAD:\n",
        "\n",
        "* Foco na resolução do problema, em vez de ficar atolado com os detalhes da implementação.\n",
        "\n",
        "* Redução dos erros lógicos que podem ocorrer a partir do mau uso das estruturas de armazenamento e dos tipos de dados, evitando o acesso direto à implementação.\n",
        "\n",
        "* Possibilidade de alteração na implementação do TAD, sem a necessidade de alterar o código do programa que utiliza o TAD.\n",
        "\n",
        "* Possibilidade de gerenciar e dividir grandes programas em módulos menores, de modo que diferentes membros possam trabalhar em módulos separados."
      ]
    },
    {
      "cell_type": "markdown",
      "metadata": {
        "id": "AGyN-0VJeO4P"
      },
      "source": [
        "## 1.3. Estruturas de Dados\n",
        "\n",
        "Trabalhar com TADs, que separam a definição da implementação, é uma vantagem na resolução de problemas e escritas de programas. Contudo, é necessário uma implementação concreta para a execução dos programas.\n",
        "\n",
        "Para a definição e a criação de TADs é necessário fornecer uma implementação. As escolhas feitas na implementaçaõ do TAD podem afetar sua funcionalidade e eficiência.\n",
        "\n",
        "TADs podem ser simples e complexos:\n",
        "\n",
        "* TAD simples: é composto de um ou vários campos de dados nomeados individualmente, como aqueles usados para representar uma data ou número racional. \n",
        "\n",
        "* TAD complexo: é composto de uma coleção de valores de dados, como listas ou dicionários. É implementado por meior de uma estrutura de dados particular, que é a representação física de como o dado é manipulado e organizado.\n",
        "\n",
        "Todas as estruturas de dados armazenam uma coleção de valores, mas diferem no modo como elas organizam os items de dados individuais e quais operações podem ser aplicadas para gerenciar a coleção."
      ]
    },
    {
      "cell_type": "markdown",
      "metadata": {
        "id": "U77JOF1Zg1D5"
      },
      "source": [
        "## 1.4. Definições Gerais\n",
        "\n",
        "**Coleção**: grupo de valores sem organização implícita ou relação entre os valores individuais.\n",
        "\n",
        "**Container**: qualquer estrutura de dados ou TAD que armazena e organiza uma coleção. Os valores individuais da coleção são conhecidos como elementos do container e um container sem elementos é dito vazio. A organização ou arranjo dos elementos podem variar entre os containers, conforme as operações disponíveis para acessar os elementos.\n",
        "\n",
        "**Sequência**: container onde os elementos são arranjados em ordem linear do início ao fim, com cada elemento acessado pela posição.\n",
        "\n",
        "**Sequência Ordenada**: a posição dos elementos está baseada na relação prescrita entre cada elemento e seu sucessor.\n",
        "\n",
        "Obs.: geralmente, o termo lista é utilizado para referenciar qualquer coleção com uma ordenação linear. A ordenação é tal que cada elemento na coleção, com exceção do primeiro, tem um único predecessor e cada elemento, com exceção do último, possui um único sucessor. Por esta definição, uma sequência é uma lista, mas uma lista não é necessariamente uma sequência (não há exigência de que uma lista forceça o acesso aos elementos pela posição)."
      ]
    },
    {
      "cell_type": "markdown",
      "metadata": {
        "id": "M7YDtP79iUvY"
      },
      "source": [
        "# 2. Tipo de dados abstrato de data \n",
        "\n",
        "Um TAD é definido especificando o domínio dos elementos de dados que compõem o TAD e o conjunto de operações que podem ser realizadas neste domínio."
      ]
    }
  ]
}