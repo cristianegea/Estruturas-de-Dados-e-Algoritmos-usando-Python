{
  "nbformat": 4,
  "nbformat_minor": 0,
  "metadata": {
    "colab": {
      "name": "1. Tipos Abstratos de Dados.ipynb",
      "provenance": [],
      "collapsed_sections": [],
      "toc_visible": true,
      "authorship_tag": "ABX9TyMctqwaTlb/76WRLaVRKVrR",
      "include_colab_link": true
    },
    "kernelspec": {
      "name": "python3",
      "display_name": "Python 3"
    },
    "language_info": {
      "name": "python"
    }
  },
  "cells": [
    {
      "cell_type": "markdown",
      "metadata": {
        "id": "view-in-github",
        "colab_type": "text"
      },
      "source": [
        "<a href=\"https://colab.research.google.com/github/cristianegea/Estruturas-de-Dados-e-Algoritmos-usando-Python/blob/main/1_Tipos_Abstratos_de_Dados.ipynb\" target=\"_parent\"><img src=\"https://colab.research.google.com/assets/colab-badge.svg\" alt=\"Open In Colab\"/></a>"
      ]
    },
    {
      "cell_type": "markdown",
      "metadata": {
        "id": "6iVK7BEtSIwl"
      },
      "source": [
        "**Algoritmos**:\n",
        "\n",
        "* São sequências de instruções para solucionar problemas em um montante finito de tempo.\n",
        "\n",
        "* São implementados traduzindo as instruções passo a passo em um programa de computador que pode ser executado por um computador.\n",
        "\n"
      ]
    },
    {
      "cell_type": "markdown",
      "metadata": {
        "id": "WkN9cURiVKD0"
      },
      "source": [
        "# 1. Introdução\n",
        "\n",
        "Os itens de dados são representados dentro de um computador como uma sequência de digitos binários. Apesar de parecerem semelhantes, possuem diferentes significados (os computadores podem armazenar e manipular diferentes tipos de dados).\n",
        "\n",
        "Para distinguir os diferentes tipos de dados, o termo \"tipo\" é frtequentemente utilizado para referenciar uma coleção de valores e o termo \"tipo de dado\" é utilizado para referenciar um determinado tipo, em conjunto com uma coleção de operações para manipulação de valores de determinado tipo.\n",
        "\n",
        "**Tipos de dados simples**: valores que estão, em sua maioria, na forma básica e não podem ser decompostos em partes menores. Ex.: tipos inteiros e reais são valores numéricos simples.\n",
        "\n",
        "**Tipos de dados complexos**: são construídos a partir de múltiplos componentes (tipos simples ou outros tipos complexos). Ex.: objetos, strings, listas e dicionários."
      ]
    },
    {
      "cell_type": "markdown",
      "metadata": {
        "id": "Abgze6ZoVMKk"
      },
      "source": [
        "## 1.1. Abstrações\n",
        "\n",
        "**Abstração**: mecanismo para separar as propriedades e restringir o foco sobre aquelas relevantes no contexto atual.\n",
        "\n",
        "O usuário da abstração não possui conhecimento de todos os detalhes na utilização do objeto, mas somente os detalhes relevantes para a tarefa ou problema atual.\n",
        "\n",
        "Tipos de abstração:\n",
        "\n",
        "* Abstração procedural: uso de uma função ou método sabendo o que faz, mas ignorando como é realizado.\n",
        "\n",
        "* Abstração de dados: separação das propriedades de um tipo de dado (seus valores e operações) a partir da implementação desse tipo de dado."
      ]
    },
    {
      "cell_type": "markdown",
      "metadata": {
        "id": "fRSXxEViY4h0"
      },
      "source": [
        "## 1.2. Tipo de Abstração de Dados (TAD)\n",
        "\n",
        "Tipo de Abstração de Dados:\n",
        "\n",
        "* Tipo de dado definido pelo programador que especifica um conjunto de valores de dados e uma coleção bem definida de operações que podem ser executados nesses valores.\n",
        "\n",
        "* É definido independentemente de sua implementação, permitindo focar no uso do tipo de dado em vez de como é a sua implementação.\n",
        "\n",
        "A separação realizada pelo TAD pode ser vista como processo de ocultar informações. Neste sentido, Ao ocultar os detalhes de implementação e exigir que os ADTs sejam acessados por meio de uma interface, é possível trabalhar com uma abstração e focar na funcionalidade que o ADT fornece, em vez de como essa funcionalidade é implementada. \n",
        "\n",
        "Os usuários de programas interagem com instâncias do TAD invocando operações definidas em sua interface. O conjunto de operações podem ser agrupadas em 4 categorias:\n",
        "\n",
        "* Construtores: criam e inicializam novas instâncias do TAD.\n",
        "\n",
        "* Assessores: retornam os dados contidos em uma instância sem modifica-los.\n",
        "\n",
        "* Mutadores: modificam os conteúdos de uma instância TAD.\n",
        "\n",
        "* Iteratores: processam componentes de dados individuais sequencialmente.\n",
        "\n",
        "Vantagens de se utilizar TAD:\n",
        "\n",
        "* Foco na resolução do problema, em vez de ficar atolado com os detalhes da implementação.\n",
        "\n",
        "* Redução dos erros lógicos que podem ocorrer a partir do mau uso das estruturas de armazenamento e dos tipos de dados, evitando o acesso direto à implementação.\n",
        "\n",
        "* Possibilidade de alteração na implementação do TAD, sem a necessidade de alterar o código do programa que utiliza o TAD.\n",
        "\n",
        "* Possibilidade de gerenciar e dividir grandes programas em módulos menores, de modo que diferentes membros possam trabalhar em módulos separados."
      ]
    },
    {
      "cell_type": "markdown",
      "metadata": {
        "id": "AGyN-0VJeO4P"
      },
      "source": [
        "## 1.3. Estruturas de Dados\n",
        "\n",
        "Trabalhar com TADs, que separam a definição da implementação, é uma vantagem na resolução de problemas e escritas de programas. Contudo, é necessário uma implementação concreta para a execução dos programas.\n",
        "\n",
        "Para a definição e a criação de TADs é necessário fornecer uma implementação. As escolhas feitas na implementaçaõ do TAD podem afetar sua funcionalidade e eficiência.\n",
        "\n",
        "TADs podem ser simples e complexos:\n",
        "\n",
        "* TAD simples: é composto de um ou vários campos de dados nomeados individualmente, como aqueles usados para representar uma data ou número racional. \n",
        "\n",
        "* TAD complexo: é composto de uma coleção de valores de dados, como listas ou dicionários. É implementado por meior de uma estrutura de dados particular, que é a representação física de como o dado é manipulado e organizado.\n",
        "\n",
        "Todas as estruturas de dados armazenam uma coleção de valores, mas diferem no modo como elas organizam os items de dados individuais e quais operações podem ser aplicadas para gerenciar a coleção."
      ]
    },
    {
      "cell_type": "markdown",
      "metadata": {
        "id": "U77JOF1Zg1D5"
      },
      "source": [
        "## 1.4. Definições Gerais\n",
        "\n",
        "**Coleção**: grupo de valores sem organização implícita ou relação entre os valores individuais.\n",
        "\n",
        "**Container**: qualquer estrutura de dados ou TAD que armazena e organiza uma coleção. Os valores individuais da coleção são conhecidos como elementos do container e um container sem elementos é dito vazio. A organização ou arranjo dos elementos podem variar entre os containers, conforme as operações disponíveis para acessar os elementos.\n",
        "\n",
        "**Sequência**: container onde os elementos são arranjados em ordem linear do início ao fim, com cada elemento acessado pela posição.\n",
        "\n",
        "**Sequência Ordenada**: a posição dos elementos está baseada na relação prescrita entre cada elemento e seu sucessor.\n",
        "\n",
        "Obs.: geralmente, o termo lista é utilizado para referenciar qualquer coleção com uma ordenação linear. A ordenação é tal que cada elemento na coleção, com exceção do primeiro, tem um único predecessor e cada elemento, com exceção do último, possui um único sucessor. Por esta definição, uma sequência é uma lista, mas uma lista não é necessariamente uma sequência (não há exigência de que uma lista forceça o acesso aos elementos pela posição)."
      ]
    },
    {
      "cell_type": "markdown",
      "metadata": {
        "id": "M7YDtP79iUvY"
      },
      "source": [
        "# 2. Tipo de dados abstrato de data \n",
        "\n",
        "Um TAD é definido especificando o domínio dos elementos de dados que compõem o TAD e o conjunto de operações que podem ser realizadas neste domínio."
      ]
    },
    {
      "cell_type": "markdown",
      "metadata": {
        "id": "KzmtpQ9ckzzA"
      },
      "source": [
        "## 2.1. Definição do TAD\n",
        "\n",
        "Definição do TAD para data:\n",
        "\n",
        "* `Date(month, day, year)`: cria uma nova instância `Date` inicializada para uma data que deve ser válida.\n",
        "\n",
        "* `day()`: retorna o número do dia de determinada data.\n",
        "\n",
        "* `month()`: retorna o número do mês de determinada data.\n",
        "\n",
        "* `year()`: retorna o ano de determinada data.\n",
        "\n",
        "* `monthName()`: retorna o nome do mês de determinada data.\n",
        "\n",
        "* `dayOfWeek()`: retorna o dia da semana como um número entre 0 e 6, onde 0 representa segunda-feira e 6 representa domingo.\n",
        "\n",
        "* `numDays(otherDate)`: retorna o número de dias como inteiro positivo entre esta data e `otherDate`.\n",
        "\n",
        "* `isLeapYear()`: determina se esta data cai em um ano bissexto e retorna o valor booleano apropriado.\n",
        "\n",
        "* `advanceBy(days)`: avança a data em um determinado número de dias. A data será aumentada se `days` for positivo e diminuída se `days` for negativo.\n",
        "\n",
        "* `comparable(otherDay)`: compara esta data a `otherDay`para determinar sua ordem lógica. Esta comparação pode ser feita por meio dos operadores lógicos `<`, `<=`, `>`, `>=`, `==`, `!=`.\n",
        "\n",
        "* `toString()`: retorna um string representando a data no formato `mm/dd/yyyy`.\n",
        "\n",
        "No Python, os TADs são implementados como classes. Na definição do TAD, as operações TAD são especificadas como protótipos de método. O construtor `class`, utilizado para criar a instância do TAD, é indicado pelo nome da classe utilizada na implementação.\n",
        "\n",
        "Python permite que as classes definam ou sobrecarreguem vários operadores que podem ser usados de forma mais natural em um programa, sem ter que chamar um método pelo nome "
      ]
    },
    {
      "cell_type": "markdown",
      "metadata": {
        "id": "Rgq5_6_GpM8S"
      },
      "source": [
        "## 2.2. Utilização do TAD"
      ]
    },
    {
      "cell_type": "code",
      "metadata": {
        "id": "p8bJCu9VpVXW"
      },
      "source": [
        "\"\"\"\n",
        "  Processamento de uma coleção de datas de nascimento.\n",
        "  As datas são extraídas a partir do imput padrão\n",
        "  As datas indicam se o indivíduo possui menos de 21 anos de idade.\n",
        "\"\"\"\n",
        "\n",
        "from date import Date\n",
        "\n",
        "def main():\n",
        "  # Data antes da qual uma pessoa deve ter nascido para ter 21 anos ou mais \n",
        "  bornBefore = Date(6, 1, 1988)\n",
        "\n",
        "  # Extrai as datas de nascimento e determinad se o usuário possui 21 anos ou mais\n",
        "  date = promptAndExtractDate()\n",
        "  while date is not None:\n",
        "    if date <- bornBefore:\n",
        "      print(\"Is at least 21 years of age: \", date)\n",
        "    date = promptAndExtractDate()\n",
        "\n",
        "# Extração dos componentes da data.\n",
        "# Retorna um objeto Date ou None quando o usuário finaliza a inserção dos dados\n",
        "def promptAndExtractDate():\n",
        "  print( \"Enter a birth date.\" )\n",
        "  month = int( input(\"month (0 to quit): \") )\n",
        "  if month == 0:\n",
        "    return None\n",
        "  else:\n",
        "    day = int( input(\"day: \") )\n",
        "    year = int( input(\"year: \") )\n",
        "    return Date( month, day, year )\n",
        "\n",
        "# Chama a rotina main\n",
        "main()"
      ],
      "execution_count": null,
      "outputs": []
    },
    {
      "cell_type": "markdown",
      "metadata": {
        "id": "6z1h3EPlse35"
      },
      "source": [
        "## 2.3. Pré-condições e Pós-condições\n",
        "\n",
        "Na definição das operações é preciso incluir uma especificação dos inputs necessários e o output resultante, caso existam. Adicionalmente, é preciso especificar as pré-condições e as pós-condições para cada operação.\n",
        "\n",
        "* Pré-condição: indica a condição ou estado da instância TAD e os inputs antes da operação ser realizada.\n",
        "\n",
        "* Pós-condição: indica o resultado ou o estado final da instância TAD depois da operação ser realizada.\n",
        "\n",
        "Enquanto que a pré-condição é assumida ser verdadeira, a pós-condição é uma garantia enquanto as pré-condições são mantidas. Assim, a tentativa de realizar uma operação na qual uma pré-condição não seja satisfeita deve ser sinalizada como um erro.\n",
        "\n",
        "Ex.: utilização do método `pop(i)` para remoção de um valor de uma lista. Quando o método é chamado, a pré-condição afirma que o índice esteja dentro de um intervalo existente. Sobre a finalização bem-sucedida da operação, a pós-condição garante que o item foi removido da lista. Se um índice inválido for informado ao passar o método `pop()`, então uma exceção é levantada.\n",
        "\n",
        "Todas as operações têm que possuir pelo menos 1 pré-condição, que é a instância TAD (que deve ser previamente inicializada). Em uma linguagem orientada a objeto, esta pré-condição é automaticamente verificada, visto que um objeto deve ser criado e sinalizado por meio do construtor antes de qualquer operação ser utilizada. Antes do requisito de inicialização, uma operação não pode ter qualquer outra pré-condição. Algumas operações podem não ter pós-condição.\n",
        "\n",
        "Um mecanismo apropriado para testar as pré-condições para TADs e levantar as execções é por meio da falha da pré-condição. Uma exceção é um evento que pode ser provocado e manipulado de forma ótima durante a execução do programa."
      ]
    },
    {
      "cell_type": "markdown",
      "metadata": {
        "id": "T25hvjlZxA-p"
      },
      "source": [
        "## 2.4. Implementando o TAD\n",
        "\n",
        "Depois de definir o TAD é preciso fornecer uma implementação em uma linguagem apropriada.\n",
        "\n",
        "**Representação de Data**\n",
        "\n",
        "Há 2 abordagens para armazenar uma data em um objeto.\n",
        "\n",
        "* Armazenamento dos 3 componentes da data (mês, dia, ano) como 3 campos separados.\n",
        "\n",
        "* Armazenamento da data como um valor inteiro representando o dia no calendário."
      ]
    },
    {
      "cell_type": "code",
      "metadata": {
        "id": "lJoyC-ssyF2-"
      },
      "source": [
        "# Implements a proleptic Gregorian calendar date as a Julian day number\n",
        "class Date:\n",
        "  # Creates an object instance for the specified Gregorian date\n",
        "  def __init__( self, month, day, year ):\n",
        "    self._julianDay = 0\n",
        "    assert self._isValidGregorian( month, day, year ), \\\n",
        "           \"Invalid Gregorian date.\"\n",
        "\n",
        "    # The first line of the equation, T = (M - 14) / 12, has to be changed\n",
        "    # since Python's implementation of integer division is not the same\n",
        "    # as the mathematical definition.\n",
        "    tmp = 0\n",
        "    if month < 3 :\n",
        "      tmp = -1\n",
        "    self._julianDay = day - 32075 + \\\n",
        "             (1461 * (year + 4800 + tmp) // 4) + \\\n",
        "             (367 * (month - 2 - tmp * 12) // 12) - \\\n",
        "             (3 * ((year + 4900 + tmp) // 100) // 4)\n",
        "    \n",
        "    # Extracts the appropriate Gregorian date component.\n",
        "    def month( self ):\n",
        "      return (self._toGregorian())[0] # returning M from (M, d, y)\n",
        "\n",
        "    def day( self ):\n",
        "      return (self._toGregorian())[1] # returning D from (m, D, y)\n",
        "    \n",
        "    def year( self ):\n",
        "      return (self._toGregorian())[2] # returning Y from (m, d, Y)\n",
        "    \n",
        "    # Returns day of the week as an int between 0 (Mon) and 6 (Sun).\n",
        "    def dayOfWeek( self ):\n",
        "      month, day, year = self._toGregorian()\n",
        "      if month < 3 :\n",
        "        month = month + 12\n",
        "        year = year - 1\n",
        "      return ((13 * month + 3) // 5 + day + \\\n",
        "              year + year // 4 - year // 100 + year // 400) % 7\n",
        "    \n",
        "    # Returns the date as a string in Gregorian format.\n",
        "    def __str__( self ):\n",
        "      month, day, year = self._toGregorian()\n",
        "      return \"%02d/%02d/%04d\" % (month, day, year)\n",
        "    \n",
        "    # Logically compares the two dates.\n",
        "    def __eq__( self, otherDate ):\n",
        "      return self._julianDay == otherDate._julianDay\n",
        "    \n",
        "    def __lt__( self, otherDate ):\n",
        "      return self._julianDay < otherDate._julianDay\n",
        "    \n",
        "    def __le__( self, otherDate ):\n",
        "      return self._julianDay <= otherDate._julianDay\n",
        "    \n",
        "    # The remaining methods are to be included at this point.\n",
        "\n",
        "    # Returns the Gregorian date as a tuple: (month, day, year).\n",
        "    def _toGregorian( self ):\n",
        "      A = self._julianDay + 68569\n",
        "      B = 4 * A // 146097\n",
        "      A = A - (146097 * B + 3) // 4\n",
        "      year = 4000 * (A + 1) // 1461001\n",
        "      A = A - (1461 * year // 4) + 31\n",
        "      month = 80 * A // 2447\n",
        "      day = A - (2447 * month // 80)\n",
        "      A = month // 11\n",
        "      month = month + 2 - (12 * A)\n",
        "      year = 100 * (B - 49) + year + A\n",
        "      return month, day, year"
      ],
      "execution_count": null,
      "outputs": []
    }
  ]
}