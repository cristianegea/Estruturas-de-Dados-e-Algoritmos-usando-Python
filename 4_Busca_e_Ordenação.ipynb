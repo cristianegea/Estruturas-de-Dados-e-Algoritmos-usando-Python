{
  "nbformat": 4,
  "nbformat_minor": 0,
  "metadata": {
    "colab": {
      "name": "4. Busca e Ordenação.ipynb",
      "provenance": [],
      "collapsed_sections": [],
      "toc_visible": true,
      "authorship_tag": "ABX9TyPLYWEFjE8ZXfUeDy6QtJRc",
      "include_colab_link": true
    },
    "kernelspec": {
      "name": "python3",
      "display_name": "Python 3"
    },
    "language_info": {
      "name": "python"
    }
  },
  "cells": [
    {
      "cell_type": "markdown",
      "metadata": {
        "id": "view-in-github",
        "colab_type": "text"
      },
      "source": [
        "<a href=\"https://colab.research.google.com/github/cristianegea/Estruturas-de-Dados-e-Algoritmos-usando-Python/blob/main/4_Busca_e_Ordena%C3%A7%C3%A3o.ipynb\" target=\"_parent\"><img src=\"https://colab.research.google.com/assets/colab-badge.svg\" alt=\"Open In Colab\"/></a>"
      ]
    },
    {
      "cell_type": "markdown",
      "metadata": {
        "id": "etOE41ggLL85"
      },
      "source": [
        "# 1. Busca\n",
        "\n",
        "A busca é o processo de selecionar determinada informação a partir de uma coleção de dados com base em um critério específico. Em outras palavras, é o processo de localizar um item específico em uma coleção de itens de dados.\n",
        "\n",
        "Busca sequencial: envolve localizar um item dentro de uma sequência utilizando uma `search key` para identificar um item específico. Uma `key` é um valor único utilizado para identificar os elementos de dados de uma coleção."
      ]
    },
    {
      "cell_type": "markdown",
      "metadata": {
        "id": "SGyOsfvsMH1T"
      },
      "source": [
        "## 1.1. Busca Linear\n",
        "\n",
        "A solução mais simples para o problema de busca de sequência é o algoritmo de busca linear ou sequencial. Esta técnica itera sobre uma sequência até que o item especificado seja localizado ou todos os items tenham sido examinados."
      ]
    },
    {
      "cell_type": "code",
      "metadata": {
        "id": "RRnYsc6cMnTM"
      },
      "source": [
        "# O item alvo pode ser localizado em uma sequência utilizando o operador \"in\"\n",
        "if key in theArray:\n",
        "  print(\"The key is in the array\")\n",
        "else:\n",
        "  print(\"The key is not in the array\")"
      ],
      "execution_count": null,
      "outputs": []
    },
    {
      "cell_type": "markdown",
      "metadata": {
        "id": "gMd7BS09jIq1"
      },
      "source": [
        "**Procura por item específico** \n",
        "\n",
        "Um loop controlado por contagem é utilizado para atravessar a sequência enquanto cada elemente é comparado com o valor alvo. Se o valor alvo estiver na sequência, o loop é finalizado e `True` é retornado. Caso contrário, uma travessia completa é realizada e `False` é retornado após finalização do loop."
      ]
    },
    {
      "cell_type": "code",
      "metadata": {
        "id": "VwKpLCroNUZc"
      },
      "source": [
        "# Algoritmo de busca sequencial, cujo resultado é um valor booleano indicando sucesso ou falha do processo de busca\n",
        "# Implementation of the linear search on an unsorted sequence\n",
        "def linearSearch( theValues, target ) :\n",
        "  n = len( theValues )\n",
        "  for i in range( n ) :\n",
        "    # If the target is in the ith element, return True\n",
        "    if theValues[i] == target:\n",
        "      return True\n",
        "  \n",
        "  return False # If not found, return False."
      ],
      "execution_count": null,
      "outputs": []
    },
    {
      "cell_type": "markdown",
      "metadata": {
        "id": "3UiVviArN7DJ"
      },
      "source": [
        "Para analisar o algoritmo de busca sequencial para o pior caso, é preciso primeiramente determinar as condições que constituem o pior caso.\n",
        "\n",
        "Obs.: o pior caso ocorre quando o algoritmo executa o nº máximo de etapas. Para uma busca sequencial, o pior caso ocorre quando o item alvo não está na sequência e o loop itera sobre a sequência completa.\n",
        "\n",
        "**Busca em uma sequência ordenada**\n",
        "\n",
        "Uma busca linear também pode ser realizada sobre uma sequência ordenada, que é uma sequência contendo valores em uma ordem específica.\n",
        "\n",
        "Uma busca linear sobre uma sequência ordenada trabalha da mesma forma que trabalha sobre uma sequência não ordenada, com uma exceção. É possível terminar a busca em menos tempos quando o valor não está localizado na sequência, em vez de sempre ter de realizar uma travessia completa.\n",
        "\n",
        "A única modificação com relação à versão anterior é a inclusão de um teste para determinar se o item atual dentro da sequência é maior que o valor alvo. Se um valor maior é encontrado, o loop termina e `False` é retornado. Neste caso, o pior caso ocorre quando o valor não está na sequência e é maior do que o último elemento da sequência. Neste caso, o algoritmo ainda atravessará a sequência completa de $n$ itens."
      ]
    },
    {
      "cell_type": "code",
      "metadata": {
        "id": "_gsjQW2OO49F"
      },
      "source": [
        "# Implementation of the linear search on a sorted sequence\n",
        "def sortedLinearSearch( theValues, item ) :\n",
        "  n = len( theValues )\n",
        "  for i in range( n ) :\n",
        "    # If the target is found in the ith element, return True\n",
        "    if theValues[i] == item :\n",
        "      return True\n",
        "    # If target is larger than the ith element, it's not in the sequence.\n",
        "    elif theValues[i] > item :\n",
        "      return False\n",
        "  \n",
        "  return False # The item is not in the sequence."
      ],
      "execution_count": null,
      "outputs": []
    },
    {
      "cell_type": "markdown",
      "metadata": {
        "id": "hMcRsjHyPZNl"
      },
      "source": [
        "**Localizando o menor valor**\n",
        "\n",
        "No caso de uma sequência não ordenada, para preparar o loop é assumido que o primeiro valor na sequência é o menor e inicia-se a comparação com o segundo item. Visto que o menor valor pode estar em qualquer lugar da sequência, é preciso realizar uma completa transversal."
      ]
    },
    {
      "cell_type": "code",
      "metadata": {
        "id": "nfWzh0DSPlS8"
      },
      "source": [
        "# Searching for the smallest value in an unsorted sequence.\n",
        "def findSmallest( theValues ):\n",
        "  n = len( theValues )\n",
        "  # Assume the first item is the smallest value\n",
        "  smallest = theValues[0]\n",
        "  # Determine if any other item in the sequence is smaller\n",
        "  for i in range( 1, n ) :\n",
        "    if theList[i] < smallest :\n",
        "      smallest = theValues[i]\n",
        "  return smallest # Return the smallest found."
      ],
      "execution_count": null,
      "outputs": []
    },
    {
      "cell_type": "markdown",
      "metadata": {
        "id": "2KwdiWw0QeKw"
      },
      "source": [
        "## 1.2. Busca Binária\n",
        "\n",
        "O algoritmo de busca linear para uma sequência ordenada produziu uma leve melhoria sobre a busca linear com uma sequência não ordenada, contudo ambos os casos possuem complexidade de tempo no pior caso. Neste caso, o algoritmo envolve a divisão de um problema grande em partes menores.\n",
        "\n",
        "O algoritmo começa examinando o item do meio da sequência ordenada, resultando em uma das 3 possíveis condições:\n",
        "\n",
        "* o item do meio é o valor alvo\n",
        "\n",
        "* o item do meio é menor que o valor alvo\n",
        "\n",
        "* o item do meio é maior que o valor alvo\n",
        "\n",
        "Uma vez que a sequência é ordenada, é possível eliminar metade dos itens da lista quando o valor alvo não é encontrado na posição do meio.\n",
        "\n",
        "Tendo descartado uma das metades da sequência, o processo é repetido sobre os itens remanescentes. Contudo, se o valor alvo não for localizado, o processo continuará até o valor alvo ser encontrado ou todos os valores serem eliminados."
      ]
    },
    {
      "cell_type": "code",
      "metadata": {
        "id": "DjR0pZ1Qojk2"
      },
      "source": [
        "# Implementation of the binary search algorithm.\n",
        "def binarySearch( theValues, target ) :\n",
        "  # Start with the entire sequence of elements.\n",
        "  low = 0\n",
        "  high = len(theValues) - 1\n",
        "\n",
        "  '''\n",
        "    low e high são utilizados para marcar o intervalo dos elementos na sequência\n",
        "    \n",
        "    Quando a busca começa, o intervalo é a sequência completa, visto que o valor alvo pode estar\n",
        "    qualquer lugar na sequência\n",
        "    \n",
        "    A primeira etapa da iteração é determinar o ponto do meio da sequência\n",
        "\n",
        "    Depois de calcular o valor do meio, o elemento correspondente na posição é examinado.\n",
        "\n",
        "    Se valor alvo = valor do meio, o algoritmo retorna True\n",
        "\n",
        "    Se valor alvo < valor do meio, a marcação high é ajustada para ser menor que o ponto do meio\n",
        "\n",
        "    Se valor alvo > valor do meio, a marcação low é ajustada para ser maior que o ponto do meio\n",
        "  '''\n",
        "\n",
        "  # Repeatedly subdivide the sequence in half until the target is found.\n",
        "  while low <= high :\n",
        "    # Find the midpoint of the sequence.\n",
        "    mid = (high + low) // 2\n",
        "    # Does the midpoint contain the target?\n",
        "    if theValues[mid] == target :\n",
        "      return True\n",
        "    # Or does the target precede the midpoint?\n",
        "    elif target < theValues[mid] :\n",
        "      high = mid - 1\n",
        "    # Or does it follow the midpoint?\n",
        "    else :\n",
        "      low = mid + 1\n",
        "    \n",
        "  # If the sequence cannot be subdivided further, we're done.\n",
        "  return False"
      ],
      "execution_count": null,
      "outputs": []
    },
    {
      "cell_type": "markdown",
      "metadata": {
        "id": "vjPFShcXqZPF"
      },
      "source": [
        "O pior caso ocorre quando o valor alvo não está localizado na sequência, semelhantemente ao caso da busca linear. A diferença é que nem todos os elementos na sequência são examinados antes de determinar se o valor alvo está ou não na sequência, mesmo no pior caso."
      ]
    },
    {
      "cell_type": "markdown",
      "metadata": {
        "id": "Usd5Yxyhq1SV"
      },
      "source": [
        "# 2. Ordenação\n",
        "\n",
        "Ordenação é o processo de arranjar ou ordenar uma coleção de itens, tal que cada item e seus sucessor satisfazem uma relação prestabelecida. Os itens podem ser valores simples (como inteiros e reais) ou tipos mais complexos (como registros ou dicionários). A chave pode ser o próprio valor quando a ordenação envolve tipos simples ou pode ser um componente específico ou combinação de componentes quando a ordenação envolve tipos complexos.\n",
        "\n",
        "O Python fornece o método `sort()` para ordenar uma lista, contudo este método não pode ser utilizado com um array ou outras estruturas de dados."
      ]
    },
    {
      "cell_type": "markdown",
      "metadata": {
        "id": "5ZFWCIrosRLT"
      },
      "source": [
        "## 2.1. Bubble Sort\n",
        "\n",
        "O algoritmo bubble sort reordena os valores iterando sobre a lista diversas vezes, fazendo com que valores maiores borbulhem no topo ou no final da lista.\n",
        "\n",
        "O algoritmo requer múltiplos passos sobre os elementos, com cada passo iniciando no primeiro elemento e terminando na posição antes da iteração anterior. Durante cada passo, os elementos na primeira e segunda posição são comparados. Se o primeiro elemento for maior que o segundo, então os elementos são trocados de lugar. Caso contrário, permanecem na mesma posição.\n",
        "\n",
        "No passo seguinte, as posições 2 e 3 são comparadas. Se o primeiro for maior que o segundo, então eles são trocados de lugar. Caso contrário, permanecem na mesma posição.\n",
        "\n",
        "O processo continua para cada par sucessivo de elementos até que o elemento com maior valor seja posicionado no final.\n",
        "\n"
      ]
    },
    {
      "cell_type": "code",
      "metadata": {
        "id": "sLk6gQr3uJAM"
      },
      "source": [
        "# Implementation of the bubble sort algorithm\n",
        "# Sorts a sequence in ascending order using the bubble sort algorithm.\n",
        "def bubbleSort( theSeq ):\n",
        "  n = len( theSeq )\n",
        "  # Perform n-1 bubble operations on the sequence\n",
        "  for i in range( n - 1 ) :\n",
        "    # Bubble the largest item to the end.\n",
        "    for j in range( i + n - 1 ) :\n",
        "      if theSeq[j] > theSeq[j + 1] : # swap the j and j+1 items.\n",
        "      tmp = theSeq[j]\n",
        "      theSeq[j] = theSeq[j + 1]\n",
        "      theSeq[j + 1] = tmp"
      ],
      "execution_count": null,
      "outputs": []
    },
    {
      "cell_type": "markdown",
      "metadata": {
        "id": "KQZAUYOMubK7"
      },
      "source": [
        "A eficiência do algoritmo bubble sort depende somente do nº total de chaves no array e é independente dos valores específicos e do arranjo inicial destes valores.\n",
        "\n",
        "Para determinar a eficiência é preciso determinar o número total de iterações realizadas pelo loop interno para uma sequência contendo $n$ valores. O loop externo é executado $n-1$ vezes, visto que o algoritmo realiza $n-1$ passos sobre a sequência. O número de iterações para o loop interno não é fixo, mas depende da iteração atual do loop externo. O número total de iterações para o loop interno será a soma dos $n-1$ inteiros, que é igual a \n",
        "\n",
        "$$\n",
        "\\frac{n(n-1)}{2} - n = \\frac{1}{2}(n^2+n)\n",
        "$$\n",
        "\n",
        "O bubble sort é considerado um dos algoritmos de ordenação mais ineficiente devido ao número total de trocas requeridas. Dado um array de chaves na ordem reversa, uma troca é realizada para cada iteração para o loop interno, que pode ser custoso na prática.\n",
        "\n",
        "Caso a sequência já esteja ordenada não haverá a necessidade de ordená-la. Porém, o algoritmo mesmo assim realizará as iterações sobre os $n$ elementos da sequência."
      ]
    },
    {
      "cell_type": "markdown",
      "metadata": {
        "id": "ZHBy4wa1wk2F"
      },
      "source": [
        "## 2.2. Selection Sort\n",
        "\n",
        "Em vez de trocar os elementos de lugar como realizado no bubble sort, os elementos são escaneados a fim de localizar o menor elemento da sequência. Assim, o processo começa localizando o menor valor na sequência e o troca de lugar com o valor que está na primeira posição na sequência. O segundo menor valor é localizado se trocado de lugar com o valor na 2ª posição. Este processo continua posicionando cada valor sucessivo, selecionando-os daqueles ainda não classificados e trocando com os valores nas respectivas posições.\n",
        "\n",
        "Quando o selection sort é implementado no código, o algoritmo mantém tanto os valores ordenados quanto os valores não ordenados na mesma estrutura de sequência.\n",
        "\n",
        "O selection sort realiza múltiplos passos sobre a sequência, mas, diferentemente do bubble sort, realiza unica troca depois de cada passo."
      ]
    },
    {
      "cell_type": "code",
      "metadata": {
        "id": "msRhdzmY0-_L"
      },
      "source": [
        "# Implementation of the selection sort algorithm.\n",
        "# Sorts a sequence in ascending order using the selection sort algorithm.\n",
        "def selectionSort( theSeq ):\n",
        "  n = len( theSeq )\n",
        "  for i in range( n - 1 ):\n",
        "    # Assume the ith element is the smallest.\n",
        "    smallNdx = i\n",
        "    # Determine if any other element contains a smaller value.\n",
        "    for j in range( i + 1, n ):\n",
        "      if theSeq[j] < theSeq[smallNdx] :\n",
        "        smallNdx = j\n",
        "\n",
        "  # Swap the ith value and smallNdx value only if the smallest value is\n",
        "  # not already in its proper position. Some implementations omit testing\n",
        "  # the condition and always swap the two values.\n",
        "  if smallNdx != i :\n",
        "    tmp = theSeq[i]\n",
        "    theSeq[i] = theSeq[smallNdx]\n",
        "    theSeq[smallNdx] = tmp"
      ],
      "execution_count": null,
      "outputs": []
    },
    {
      "cell_type": "markdown",
      "metadata": {
        "id": "kGuTn3BY1iwL"
      },
      "source": [
        "O selection sort realiza $n-1$ passos sobre o array e reposiciona $n-1$ valores.\n",
        "\n"
      ]
    },
    {
      "cell_type": "markdown",
      "metadata": {
        "id": "jVNYaauj2rGd"
      },
      "source": [
        "## 2.3. Insertion Sort\n",
        "\n",
        "O insertion sort mantém uma coleção de itens ordenados e um coleção de itens a ser ordenado. Quando o algoritmo insertion sort é implementado em um programa, são mantidas as coleções ordenadas e não ordenadas com a mesma estrutura de sequência.\n",
        "\n",
        "O algoritmo mantém a lista de valores ordenados no início da sequência e escolhe o próximo valor não classificado do primeiro daqueles ainda a serem posicionados. Para posicionar o próximo item, o local correto dentro da sequência dos valores ordenados é localizado por meio da busca. Depois de localizar a posição adequada, os itens são deslocados descendo uma posiçaõ a fim de liberar a posição."
      ]
    },
    {
      "cell_type": "code",
      "metadata": {
        "id": "AmPZe1oS4HYj"
      },
      "source": [
        "# Implementation of the insertion sort algorithm.\n",
        "# Sorts a sequence in ascending order using the insertion sort algorithm.\n",
        "def insertionSort( theSeq ):\n",
        "  n = len( theSeq )\n",
        "  # Starts with the first item as the only sorted entry.\n",
        "  for i in range( 1, n ) :\n",
        "    # Save the value to be positioned\n",
        "    value = theSeq[i]\n",
        "    # Find the position where value fits in the ordered part of the list.\n",
        "    pos = i\n",
        "    while pos > 0 and value < theSeq[pos - 1] :\n",
        "      # Shift the items to the right during the search\n",
        "      theSeq[pos] = theSeq[pos - 1]\n",
        "      pos -= 1\n",
        "    \n",
        "    # Put the saved value into the open slot.\n",
        "    theSeq[pos] = value\n",
        "\n",
        "'''\n",
        "  A função insertioSort() começa assumindo que o 1º item está localizado na posição adequada.\n",
        "\n",
        "  Em seguida, uma iteração é realizada sobre os itens remanescentes, de modo que cada valor possa ser\n",
        "  inserido em suas posições apropriadas dentro da porção ordenada da sequência.\n",
        "\n",
        "  A parte ordenada da sequência está na frente, enquanto as que ainda não foram inseridas estão no final \n",
        "\n",
        "  A variável de índice de loop i marca o ponto de separação entre as duas partes \n",
        "\n",
        "  O loop interno é utilizado para localizar o ponto de inserção dentro de sequência ordenada e, no mesmo\n",
        "  tempo, desloca os itens para baixo para abrir espaço para o próximo item. \n",
        "'''"
      ],
      "execution_count": null,
      "outputs": []
    }
  ]
}