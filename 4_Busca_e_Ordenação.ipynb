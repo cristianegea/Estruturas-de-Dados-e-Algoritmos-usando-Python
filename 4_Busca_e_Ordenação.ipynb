{
  "nbformat": 4,
  "nbformat_minor": 0,
  "metadata": {
    "colab": {
      "name": "4. Busca e Ordenação.ipynb",
      "provenance": [],
      "collapsed_sections": [],
      "toc_visible": true,
      "authorship_tag": "ABX9TyNnp6ZHnMIqynbbGtJas/Pp",
      "include_colab_link": true
    },
    "kernelspec": {
      "name": "python3",
      "display_name": "Python 3"
    },
    "language_info": {
      "name": "python"
    }
  },
  "cells": [
    {
      "cell_type": "markdown",
      "metadata": {
        "id": "view-in-github",
        "colab_type": "text"
      },
      "source": [
        "<a href=\"https://colab.research.google.com/github/cristianegea/Estruturas-de-Dados-e-Algoritmos-usando-Python/blob/main/4_Busca_e_Ordena%C3%A7%C3%A3o.ipynb\" target=\"_parent\"><img src=\"https://colab.research.google.com/assets/colab-badge.svg\" alt=\"Open In Colab\"/></a>"
      ]
    },
    {
      "cell_type": "markdown",
      "metadata": {
        "id": "etOE41ggLL85"
      },
      "source": [
        "# 1. Busca\n",
        "\n",
        "A busca é o processo de selecionar determinada informação a partir de uma coleção de dados com base em um critério específico. Em outras palavras, é o processo de localizar um item específico em uma coleção de itens de dados.\n",
        "\n",
        "Busca sequencial: envolve localizar um item dentro de uma sequência utilizando uma `search key` para identificar um item específico. Uma `key` é um valor único utilizado para identificar os elementos de dados de uma coleção."
      ]
    },
    {
      "cell_type": "markdown",
      "metadata": {
        "id": "SGyOsfvsMH1T"
      },
      "source": [
        "## 1.1. Busca Linear\n",
        "\n",
        "A solução mais simples para o problema de busca de sequência é o algoritmo de busca linear ou sequencial. Esta técnica itera sobre uma sequência até que o item especificado seja localizado ou todos os items tenham sido examinados."
      ]
    },
    {
      "cell_type": "code",
      "metadata": {
        "id": "RRnYsc6cMnTM"
      },
      "source": [
        "# O item alvo pode ser localizado em uma sequência utilizando o operador \"in\"\n",
        "if key in theArray:\n",
        "  print(\"The key is in the array\")\n",
        "else:\n",
        "  print(\"The key is not in the array\")"
      ],
      "execution_count": null,
      "outputs": []
    },
    {
      "cell_type": "code",
      "metadata": {
        "id": "VwKpLCroNUZc"
      },
      "source": [
        "# Algoritmo de busca sequencial, cujo resultado é um valor booleano indicando sucesso ou falha do processo de busca\n",
        "def linearSearch( theValues, target ) :\n",
        "  n = len( theValues )\n",
        "  for i in range( n ) :\n",
        "    # If the target is in the ith element, return True\n",
        "    if theValues[i] == target:\n",
        "      return True\n",
        "  \n",
        "  return False # If not found, return False."
      ],
      "execution_count": null,
      "outputs": []
    },
    {
      "cell_type": "markdown",
      "metadata": {
        "id": "3UiVviArN7DJ"
      },
      "source": [
        "Uma busca linear também pode ser realizada sobre uma sequência ordenada, que é uma sequência contendo valores em uma ordem específica.\n",
        "\n",
        "Uma busca linear sobre uma sequência ordenada trabalha da mesma forma que trabalha sobre uma sequência não ordenada, com uma exceção. É possível terminar a busca em menos tempos quando o valor não está localizado na sequência, em vez de sempre ter de realizar uma transversal completa."
      ]
    },
    {
      "cell_type": "code",
      "metadata": {
        "id": "_gsjQW2OO49F"
      },
      "source": [
        "# Implementation of the linear search on a sorted sequence\n",
        "def sortedLinearSearch( theValues, item ) :\n",
        "  n = len( theValues )\n",
        "  for i in range( n ) :\n",
        "    # If the target is found in the ith element, return True\n",
        "    if theValues[i] == item :\n",
        "      return True\n",
        "    # If target is larger than the ith element, it's not in the sequence.\n",
        "    elif theValues[i] > item :\n",
        "      return False\n",
        "  \n",
        "  return False # The item is not in the sequence."
      ],
      "execution_count": null,
      "outputs": []
    },
    {
      "cell_type": "markdown",
      "metadata": {
        "id": "hMcRsjHyPZNl"
      },
      "source": [
        "**Localizando o menor valor**\n",
        "\n",
        "No caso de uma sequência não ordenada, para prepara o loop é assumido que o primeiro valor na sequência é o menor e inicia-se a comparação com o segundo item. Visto que o menor valor pode estar em qualquer lugar da sequência, é preciso realizar uma completa transversal."
      ]
    },
    {
      "cell_type": "code",
      "metadata": {
        "id": "nfWzh0DSPlS8"
      },
      "source": [
        "# Searching for the smallest value in an unsorted sequence.\n",
        "def findSmallest( theValues ):\n",
        "  n = len( theValues )\n",
        "  # Assume the first item is the smallest value\n",
        "  smallest = theValues[0]\n",
        "  # Determine if any other item in the sequence is smaller\n",
        "  for i in range( 1, n ) :\n",
        "    if theList[i] < smallest :\n",
        "      smallest = theValues[i]\n",
        "  return smallest # Return the smallest found."
      ],
      "execution_count": null,
      "outputs": []
    },
    {
      "cell_type": "markdown",
      "metadata": {
        "id": "2KwdiWw0QeKw"
      },
      "source": [
        "## 1.2. Busca Binária"
      ]
    }
  ]
}