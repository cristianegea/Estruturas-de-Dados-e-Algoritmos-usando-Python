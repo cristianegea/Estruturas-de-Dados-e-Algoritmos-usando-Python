{
  "nbformat": 4,
  "nbformat_minor": 0,
  "metadata": {
    "colab": {
      "name": "2. Arrays.ipynb",
      "provenance": [],
      "collapsed_sections": [],
      "toc_visible": true,
      "authorship_tag": "ABX9TyO0F4xzGGl1mIbSYtUWleTB",
      "include_colab_link": true
    },
    "kernelspec": {
      "name": "python3",
      "display_name": "Python 3"
    },
    "language_info": {
      "name": "python"
    }
  },
  "cells": [
    {
      "cell_type": "markdown",
      "metadata": {
        "id": "view-in-github",
        "colab_type": "text"
      },
      "source": [
        "<a href=\"https://colab.research.google.com/github/cristianegea/Estruturas-de-Dados-e-Algoritmos-usando-Python/blob/main/2_Arrays.ipynb\" target=\"_parent\"><img src=\"https://colab.research.google.com/assets/colab-badge.svg\" alt=\"Open In Colab\"/></a>"
      ]
    },
    {
      "cell_type": "markdown",
      "metadata": {
        "id": "2px0ocFd8sQx"
      },
      "source": [
        "**Array**\n",
        "\n",
        "* Estrutura mais básica para armazenar e acessar uma coleção de dados.\n",
        "\n",
        "* Pode ser utilizado para resolver um amplo conjunto de problemas."
      ]
    },
    {
      "cell_type": "markdown",
      "metadata": {
        "id": "hBcCbme68_rk"
      },
      "source": [
        "# 1. Estrutura Array\n",
        "\n",
        "Array unidimensional:\n",
        "\n",
        "* É composto de múltiplos elementos sequenciais armazenados em bytes contíguos de memória.\n",
        "\n",
        "* Permite acesso aleatório aos elementos individuais.\n",
        "\n",
        "* Os elementos individuais são identificados por um subscritop inteiro único começando com zero.\n",
        "\n",
        "* Uma vez criado não pode ser alterado.\n",
        "\n",
        "O conteúdo completo de um array é identificado por um único nome. Elementos individuais dentro do array podem ser acessados diretamente especificando um subscrito inteiro ou valor do índice, que indica um deslocamento do início do array, `x[i]`.\n",
        "\n",
        "No Python, a estrutura de array é bastante similar à estrutura de lista, pois ambas as estruturas são sequências compostas de múltiplos elementos sequenciais que podem ser acessados pela posição.\n",
        "\n",
        "Diferenças entre array e lista:\n",
        "\n",
        "* Um array possui um número limitado de operações (criação do array, leitura do valor de um elemento específico, escrita de valor para um elemento específico).\n",
        "\n",
        "* Uma lista possui um grande número de operações.\n",
        "\n",
        "* Uma lista pode aumentar e diminuir durante a execução, à medida que elementos são inseridos ou removidos.\n",
        "\n",
        "* O tamanho de um array não pode ser alterado depois de ser criado.\n",
        "\n",
        "O array é melhor adequado para problemas que requerem uma sequência em que o número máximo de elementos são conhecidos antecipadamente, enquanto que a lista é a melhor escolha quando o tamanho da sequência necessita ser alterada depois de sua criação."
      ]
    },
    {
      "cell_type": "markdown",
      "metadata": {
        "id": "_vaIVx_YAB5g"
      },
      "source": [
        "## 1.2. TAD do Array\n",
        "\n",
        "* `Array(size)`: cria um array unidimensional contendo `size` elementos, com cada elemento tendo valor inicial `None`. `size` deve ser maior que zero.\n",
        "\n",
        "* `length()`: retorna o comprimento ou número de elementos no array.\n",
        "\n",
        "* `getitem(index)`: retorna o valor armazenado no array na posição do elemento `index`.\n",
        "\n",
        "* `setitem(index, value)`: modifica o conteúdo do elemento do array na posição `index` para conter o valor `value`.\n",
        "\n",
        "* `clearing(value)`: limpa o array definindo cada elemento para `value`.\n",
        "\n",
        "* `iterator()`: cria e retorna um iterator, que pode ser utilizado para atravessar os elementos do array."
      ]
    },
    {
      "cell_type": "markdown",
      "metadata": {
        "id": "uReSEcDpGarc"
      },
      "source": [
        "O módulo `ctypes` fornece acesso a um conjunto diverso de tipos de dados disponíveisna linguagem C uma completa funcionalidade fornecida por uma ampla gama de bibliotecas do C."
      ]
    },
    {
      "cell_type": "code",
      "metadata": {
        "id": "FbPZe8AZChUu"
      },
      "source": [
        "# Implements the Array ADT using array capabilities of the ctypes module\n",
        "import ctypes\n",
        "\n",
        "class Array :\n",
        "  # Creates an array with size elements.\n",
        "  def __init__( self, size ):\n",
        "    assert size > 0, \"Array size must be > 0\"\n",
        "    self._size = size\n",
        "    # Create the array structure using the ctypes module.\n",
        "    PyArrayType = ctypes.py_object * size\n",
        "    self._elements = PyArrayType()\n",
        "    # Initialize each element.\n",
        "    self.clear( None )\n",
        "  \n",
        "  # Returns the size of the array\n",
        "  def __len__( self ):\n",
        "    return self._size\n",
        "  \n",
        "  # Gets the contents of the index element\n",
        "  def __getitem__( self, index ):\n",
        "    assert index >= 0 and index < len(self), \"Array subscript out of range\"\n",
        "    return self._elements[ index ]\n",
        "  \n",
        "  # Puts the value in the array element at index position\n",
        "  def __setitem__( self, index, value ):\n",
        "    assert index >= 0 and index < len(self), \"Array subscript out of range\"\n",
        "    self._elements[ index ] = value\n",
        "  \n",
        "  # Clears the array by setting each element to the given value.\n",
        "  def clear( self, value ):\n",
        "    for i in range( len(self) ) :\n",
        "      self._elements[i] = value\n",
        "  \n",
        "  # Returns the array's iterator for traversing the elements\n",
        "  def __iter__( self ):\n",
        "    return _ArrayIterator( self._elements )"
      ],
      "execution_count": null,
      "outputs": []
    },
    {
      "cell_type": "code",
      "metadata": {
        "id": "R6nV2XfzDZ7D"
      },
      "source": [
        "# An iterator for the Array ADT\n",
        "class _ArrayIterator :\n",
        "  def __init__( self, theArray ):\n",
        "    self._arrayRef = theArray\n",
        "    self._curNdx = 0\n",
        "    \n",
        "  def __iter__( self ):\n",
        "    return self\n",
        "    \n",
        "  def __next__( self ):\n",
        "    if self._curNdx < len( self._arrayRef ) :\n",
        "      entry = self._arrayRef[ self._curNdx ]\n",
        "      self._curNdx += 1\n",
        "      return entry\n",
        "    else :\n",
        "      raise StopIteration"
      ],
      "execution_count": null,
      "outputs": []
    },
    {
      "cell_type": "code",
      "metadata": {
        "colab": {
          "base_uri": "https://localhost:8080/"
        },
        "id": "xKP0JZpGD3Db",
        "outputId": "8c2b877a-a184-442c-a8a2-5c3eafb7960d"
      },
      "source": [
        "# The following simple program illustrates the creation and use of an array object based on the Array ADT\n",
        "# Fill a 1-D array with random values, then print them, one per line.\n",
        "import random\n",
        "\n",
        "# The constructor is called to create the array.\n",
        "valueList = Array( 100 )\n",
        "\n",
        "# Fill the array with random floating-point values.\n",
        "for i in range( len( valueList ) ) :\n",
        "  valueList[ i ] = random.random()\n",
        "\n",
        "# Print the values, one per line.\n",
        "for value in valueList :\n",
        "  print( value )"
      ],
      "execution_count": null,
      "outputs": [
        {
          "output_type": "stream",
          "text": [
            "0.9360054717289399\n",
            "0.4306768759744002\n",
            "0.6240112393106885\n",
            "0.002618749322555347\n",
            "0.20698058716235423\n",
            "0.6770294506827594\n",
            "0.5220476794920708\n",
            "0.3664068728669104\n",
            "0.45855311504915053\n",
            "0.590555449482328\n",
            "0.1952881023568077\n",
            "0.3536040090063417\n",
            "0.0062147323467295346\n",
            "0.8198987912806247\n",
            "0.7592665908282917\n",
            "0.9673924108955735\n",
            "0.8807587287532627\n",
            "0.12112901990104719\n",
            "0.5062944825289126\n",
            "0.5759556162971037\n",
            "0.9693583140204651\n",
            "0.9371527649225484\n",
            "0.138278407443858\n",
            "0.6160102130667003\n",
            "0.6425098321144814\n",
            "0.4600155382549522\n",
            "0.5724806507716308\n",
            "0.6998130968946755\n",
            "0.4377158624088483\n",
            "0.9609610860837742\n",
            "0.41291010920777527\n",
            "0.6188208333864276\n",
            "0.5370352849152498\n",
            "0.2693657529067798\n",
            "0.5294721164653586\n",
            "0.7298254216500288\n",
            "0.21351421718621943\n",
            "0.0780296904871921\n",
            "0.8850320319981652\n",
            "0.2102573444443333\n",
            "0.299994638005192\n",
            "0.4124887347133067\n",
            "0.7417062675755256\n",
            "0.02428011928344964\n",
            "0.6236557508603888\n",
            "0.9648303355039594\n",
            "0.5981593377713501\n",
            "0.04635990699212378\n",
            "0.8458221470719876\n",
            "0.6438572999871237\n",
            "0.8209664032421654\n",
            "0.2799638512358624\n",
            "0.5468262528764642\n",
            "0.7875203927855754\n",
            "0.45318513073151023\n",
            "0.5358505377426221\n",
            "0.2108388730980012\n",
            "0.3837419808857516\n",
            "0.9053716104370201\n",
            "0.12141471819716654\n",
            "0.7334596095204418\n",
            "0.8146461365618086\n",
            "0.03885602822846823\n",
            "0.8756841506343455\n",
            "0.9887465659785677\n",
            "0.9408344873807214\n",
            "0.5316557132398259\n",
            "0.4841189567991665\n",
            "0.4897177312972405\n",
            "0.22601532700840798\n",
            "0.19383319503089724\n",
            "0.8684777248180029\n",
            "0.6633079609834954\n",
            "0.0273298766970006\n",
            "0.2516670833404636\n",
            "0.9166026493183473\n",
            "0.7795679729894517\n",
            "0.9988405785099235\n",
            "0.5786231529182655\n",
            "0.9231084159182069\n",
            "0.9319426646523733\n",
            "0.6505806787738225\n",
            "0.11424909672234751\n",
            "0.8008054101782807\n",
            "0.7996930462489518\n",
            "0.08794010713255318\n",
            "0.01904583616363975\n",
            "0.8759109334623311\n",
            "0.11467079655294377\n",
            "0.8349423510785209\n",
            "0.8502956167366293\n",
            "0.8334696793393471\n",
            "0.5054147175157162\n",
            "0.23149337937420122\n",
            "0.6475109385527943\n",
            "0.568494910640173\n",
            "0.2886254850580857\n",
            "0.5602424212221342\n",
            "0.1552689299089215\n",
            "0.8502191120890314\n"
          ],
          "name": "stdout"
        }
      ]
    },
    {
      "cell_type": "code",
      "metadata": {
        "id": "xMCXRNICEjLg"
      },
      "source": [
        "'''\n",
        "  Suppose you need to read the contents of a text file and count the number of letters occurring in the file with the results printed \n",
        "  to the terminal.\n",
        "  The characters are represented by the ASCII code, which consists of integer values.\n",
        "  The letters of the alphabet, both upper- and lowercase, are part of what’s known as the printable range of the ASCII code.\n",
        "  This includes the ASCII values in the range [32 . . . 126] along with some of the codes with smaller values.\n",
        "  Since all of the letters will have ASCII values less than 127, we can create an array of this size and let each element represent \n",
        "  a counter for the corresponding ASCII value\n",
        "'''\n",
        "\n",
        "# Count the number of occurrences of each letter in a text file.\n",
        "# Create an array for the counters and initialize each element to 0.\n",
        "theCounters = Array( 127 )\n",
        "theCounters.clear( 0 )\n",
        "\n",
        "# Open the text file for reading and extract each line from the file\n",
        "# and iterate over each character in the line.\n",
        "theFile = open( 'atextfile.txt', 'r' )\n",
        "for line in theFile :\n",
        "  for letter in line :\n",
        "    code = ord( letter )\n",
        "    theCounters[code] += 1\n",
        "# Close the file\n",
        "theFile.close()"
      ],
      "execution_count": null,
      "outputs": []
    },
    {
      "cell_type": "code",
      "metadata": {
        "id": "gNn76LNDFjgw"
      },
      "source": [
        "# Print the results. The uppercase letters have ASCII values in the\n",
        "# range 65..90 and the lowercase letters are in the range 97..122.\n",
        "for i in range( 26 ) :\n",
        "  print( \"%c - %4d %c - %4d\" % \\\n",
        "        (chr(65+i), theCounters[65+i], chr(97+i), theCounters[97+i]) )"
      ],
      "execution_count": null,
      "outputs": []
    },
    {
      "cell_type": "markdown",
      "metadata": {
        "id": "O0AuWab7G7jf"
      },
      "source": [
        "Os elementos do array devem ser inicializados anter de poderem ser utilizados.\n",
        "\n",
        "O array deve ser inicializado imediatamente depois de ter sido criado, atribuindo um valor para cvada elemento por meior da notação de subscrito."
      ]
    },
    {
      "cell_type": "markdown",
      "metadata": {
        "id": "Kk8biEbpHy5f"
      },
      "source": [
        "# 2. Lista no Python\n",
        "\n",
        "A estrutura de lista do Python é um container de sequência mutável que pode ter seu tamanho alterado à medida que os items são adicionados ou removidos. É um tipo de dado abstrato que é implementado utilizando uma estrutura de array para armazenar os itens contidos na lista."
      ]
    },
    {
      "cell_type": "code",
      "metadata": {
        "colab": {
          "base_uri": "https://localhost:8080/"
        },
        "id": "waLouloZnuxX",
        "outputId": "ae2db3b3-78c1-433c-c2dd-c68848c2bc80"
      },
      "source": [
        "# Criação de uma lista\n",
        "pyList = [4, 12, 2, 34, 17]\n",
        "type(pyList)"
      ],
      "execution_count": 11,
      "outputs": [
        {
          "output_type": "execute_result",
          "data": {
            "text/plain": [
              "list"
            ]
          },
          "metadata": {
            "tags": []
          },
          "execution_count": 11
        }
      ]
    },
    {
      "cell_type": "markdown",
      "metadata": {
        "id": "11DdFhlun-0w"
      },
      "source": [
        "Ao criar o objeto lista, o construtor `list()` criando uma estrutura de array para armazenar os itens contidos na lista. O array é inicialmente criado com tamanho maior do que o necessário, deixando a capacidade para futura expansão. Os valores armazenados na lista compreendem um subarray em que somente um subconjunto contíguo de elementos do array são realmente utilizados."
      ]
    },
    {
      "cell_type": "code",
      "metadata": {
        "colab": {
          "base_uri": "https://localhost:8080/"
        },
        "id": "ZR3aSz9Hoyyd",
        "outputId": "5baa5256-fe31-4afe-faea-230a755452aa"
      },
      "source": [
        "# Obtendo o comprimento da lista\n",
        "len(pyList)"
      ],
      "execution_count": 3,
      "outputs": [
        {
          "output_type": "execute_result",
          "data": {
            "text/plain": [
              "5"
            ]
          },
          "metadata": {
            "tags": []
          },
          "execution_count": 3
        }
      ]
    },
    {
      "cell_type": "markdown",
      "metadata": {
        "id": "p6kAqdlOpJ20"
      },
      "source": [
        "## 2.1. Adicionando itens"
      ]
    },
    {
      "cell_type": "code",
      "metadata": {
        "colab": {
          "base_uri": "https://localhost:8080/"
        },
        "id": "O7x490uFpPnk",
        "outputId": "f3fbabd9-ec1a-49d0-8eeb-c49dac8c4061"
      },
      "source": [
        "# Adicionando novos itens no fim da lista\n",
        "pyList.append(50)\n",
        "pyList"
      ],
      "execution_count": 12,
      "outputs": [
        {
          "output_type": "execute_result",
          "data": {
            "text/plain": [
              "[4, 12, 2, 34, 17, 50]"
            ]
          },
          "metadata": {
            "tags": []
          },
          "execution_count": 12
        }
      ]
    },
    {
      "cell_type": "code",
      "metadata": {
        "colab": {
          "base_uri": "https://localhost:8080/"
        },
        "id": "R4rogZl6piAO",
        "outputId": "7a363bc1-553d-4411-ff74-ea301e7a9fe7"
      },
      "source": [
        "pyList.append( 18 )\n",
        "pyList.append( 64 )\n",
        "pyList.append( 6 )\n",
        "pyList"
      ],
      "execution_count": 13,
      "outputs": [
        {
          "output_type": "execute_result",
          "data": {
            "text/plain": [
              "[4, 12, 2, 34, 17, 50, 18, 64, 6]"
            ]
          },
          "metadata": {
            "tags": []
          },
          "execution_count": 13
        }
      ]
    },
    {
      "cell_type": "markdown",
      "metadata": {
        "id": "vVGexu6RpnwL"
      },
      "source": [
        "Por definição, uma lista pode conter qualquer número de itens e nunca se tornar cheia, diferentemente do array (que não pode ter seu tamanho alterado).\n",
        "\n",
        "Para a expansão do array, as seguintes etapas são realizadas:\n",
        "\n",
        "* um novo array é criado com capacidade adicional.\n",
        "\n",
        "* os itens do array original são copiados para o novo array.\n",
        "\n",
        "* o novo array com tamanho maior é definido como a estrutura de dados para a lista.\n",
        "\n",
        "* o array original é destruído.\n",
        "\n",
        "Depois que o novo array é expandido, o valor pode ser adicionado no final da lista. Em Python, o montante pelo qual o tamanho do array é aumentado é proporcional ao tamanho atual do array."
      ]
    },
    {
      "cell_type": "markdown",
      "metadata": {
        "id": "KOs9NFd_qv9Z"
      },
      "source": [
        "## 2.2. Expandindo uma lista\n",
        "\n",
        "Uma lista pode ser expandida para uma segunda lista utilizando o método `extend()`."
      ]
    },
    {
      "cell_type": "code",
      "metadata": {
        "colab": {
          "base_uri": "https://localhost:8080/"
        },
        "id": "49BgeR43rBjp",
        "outputId": "6547430c-3e1a-4275-cf5c-29a270cf272c"
      },
      "source": [
        "# Expandindo a lista A\n",
        "pyListA = [34,12]\n",
        "pyListB = [4,6,31,9]\n",
        "pyListA.extend(pyListB)\n",
        "pyListA"
      ],
      "execution_count": 6,
      "outputs": [
        {
          "output_type": "execute_result",
          "data": {
            "text/plain": [
              "[34, 12, 4, 6, 31, 9]"
            ]
          },
          "metadata": {
            "tags": []
          },
          "execution_count": 6
        }
      ]
    },
    {
      "cell_type": "markdown",
      "metadata": {
        "id": "4YwFzYimrRrE"
      },
      "source": [
        "Ao expandir a lista A, os elementos da lista B são copiados para a lista A (elemento a elemento). Se não há capacidade suficiente para todos os elementos, o array subjacente deve ser expandido como foi feito com o método `append()`.\n",
        "\n",
        "Visto que o Python sabe o quão o array necessita ser para armazenar todos os elementos de ambas as listas, somente requer uma única expansão da lista de destino `pyListA`. O novo array será criado maior do que o necessário para permitir que mais elementos sejam adicionados à lista sem requer primeiro uma expansão imediata do array. Depois que o novo array é criado, elementos da lista de destino são copiadas para o novo array seguido dos elementos da lista fonte `pyListB`."
      ]
    },
    {
      "cell_type": "markdown",
      "metadata": {
        "id": "BYUqJGbOshnD"
      },
      "source": [
        "## 2.3. Inserindo itens\n",
        "\n",
        "Um item pode ser inserido em qualquer lugar em uma lista utilizando o método `insert()`."
      ]
    },
    {
      "cell_type": "code",
      "metadata": {
        "colab": {
          "base_uri": "https://localhost:8080/"
        },
        "id": "ypjPYC_gs27l",
        "outputId": "0d184032-f62a-4124-af6d-48b89eb87fb3"
      },
      "source": [
        "# Inserindo elemento 79 na posição 3 da lista\n",
        "pyList.insert(3,79)\n",
        "pyList"
      ],
      "execution_count": 14,
      "outputs": [
        {
          "output_type": "execute_result",
          "data": {
            "text/plain": [
              "[4, 12, 2, 79, 34, 17, 50, 18, 64, 6]"
            ]
          },
          "metadata": {
            "tags": []
          },
          "execution_count": 14
        }
      ]
    },
    {
      "cell_type": "markdown",
      "metadata": {
        "id": "8seCManttN-A"
      },
      "source": [
        "Ao inserir o elemento em uma determinada posição na lista, o elemento que ocupava esta posição e os elementos que ocupavam posições posteriores são deslocados a fim de que o novo elemento seja inserido."
      ]
    },
    {
      "cell_type": "markdown",
      "metadata": {
        "id": "bVBfeBbrtexS"
      },
      "source": [
        "## 2.4. Removendo itens\n",
        "\n",
        "É possível remover elemento de qualquer posição em uma lista utilizando o método `pop()`."
      ]
    },
    {
      "cell_type": "code",
      "metadata": {
        "colab": {
          "base_uri": "https://localhost:8080/"
        },
        "id": "fkAwtfastwn0",
        "outputId": "28a610e8-377a-4efd-8b40-ad247c44b8c4"
      },
      "source": [
        "# Remoção do primeiro elemento da lista\n",
        "pyList.pop(0)\n",
        "pyList"
      ],
      "execution_count": 15,
      "outputs": [
        {
          "output_type": "execute_result",
          "data": {
            "text/plain": [
              "[12, 2, 79, 34, 17, 50, 18, 64, 6]"
            ]
          },
          "metadata": {
            "tags": []
          },
          "execution_count": 15
        }
      ]
    },
    {
      "cell_type": "code",
      "metadata": {
        "colab": {
          "base_uri": "https://localhost:8080/"
        },
        "id": "ue-QCF4rt2vX",
        "outputId": "dc2352c0-a87d-4799-d4db-01f3288d76e5"
      },
      "source": [
        "# Remoção do último elemento da lista\n",
        "pyList.pop()\n",
        "pyList"
      ],
      "execution_count": 16,
      "outputs": [
        {
          "output_type": "execute_result",
          "data": {
            "text/plain": [
              "[12, 2, 79, 34, 17, 50, 18, 64]"
            ]
          },
          "metadata": {
            "tags": []
          },
          "execution_count": 16
        }
      ]
    },
    {
      "cell_type": "markdown",
      "metadata": {
        "id": "ECoZVB7juQZw"
      },
      "source": [
        "## 2.5. Fatia da lista\n",
        "\n",
        "Slice é uma operação que cria uma nova lista contendo um subconjunto contíguo de elementos da lista original. A lista original é, portanto, modificada por esta operação. De fato, referência aos elementos correspondentes são copiados e armazenados na nova lista."
      ]
    },
    {
      "cell_type": "code",
      "metadata": {
        "colab": {
          "base_uri": "https://localhost:8080/"
        },
        "id": "en2D2KmAu9Dw",
        "outputId": "c6475586-8cd0-4e73-a71a-2532f748b6c4"
      },
      "source": [
        "# Criação de uma nova lista \n",
        "aSlice = pyList[2:3]\n",
        "aSlice"
      ],
      "execution_count": 17,
      "outputs": [
        {
          "output_type": "execute_result",
          "data": {
            "text/plain": [
              "[79]"
            ]
          },
          "metadata": {
            "tags": []
          },
          "execution_count": 17
        }
      ]
    },
    {
      "cell_type": "markdown",
      "metadata": {
        "id": "qUCBpwX_vNJn"
      },
      "source": [
        "Para fazer slice em uma lista, uma nova lista é criada com uma capacidade grande o suficiente para armazenar o subconjunto completo de elementos mais o espaço adicional para futuras inserções. Os elementos dentro do intervalo especificado são copiados, elemento por elemento, para a nova lista."
      ]
    },
    {
      "cell_type": "markdown",
      "metadata": {
        "id": "fSsBKN5nvrot"
      },
      "source": [
        "# 3. Arrays Bidimensionais\n",
        "\n",
        "Arrays não são limitados a uma única dimensão.\n",
        "\n",
        "Um array bidimensional organiza os dados em linhas e colunas semelhante a uma tabela ou grid. Os elementos individuais são acessados especificando 2 índices, um para a linha e outro para a coluna, `[i,j]`."
      ]
    },
    {
      "cell_type": "markdown",
      "metadata": {
        "id": "R492WrG2wQpi"
      },
      "source": [
        "## 3.1. TAD de um Array 2D\n",
        "\n",
        "Python não suporta a construção de arrays de qualquer dimensão. Diante disso, define-se o TAD Array2D para criação de arrays bidimensionais. Isso consiste de um conjunto limitado de operações similares àqueles fornecidos por um TAD array unidimensional.\n",
        "\n",
        "Um array bidimensional consiste de uma coleção de elementos organizados em linhas e colunas. Elementos individuais são referenciados especificando os índices de linha e coluna `(r,c)`, ambos com início em 0.\n",
        "\n",
        "* `Array2D(nrows,ncols)`: cria um array bidimensional organizado em linhas e colunas. Os argumentos `nrowns` e `ncols` indicam o tamanho da tabela.\n",
        "\n",
        "* `numRows()`: retorna o nº de linhas no array 2-D\n",
        "\n",
        "* `numCols()`: retorna o nº de colunas no array 2-D\n",
        "\n",
        "* `clear(value)`: limpa o array definindo cada elemento para `value`\n",
        "\n",
        "* `getitem(i1,i2)`: retorna o valor armazenado no elemento array 2-D ba posição indicada pela tupla `(i1,i2)`\n",
        "\n",
        "* `setitem(i1,i2,value)`: modifica o conteúdo do elemento array 2-D indicado pela tupla `(i1,i2)` com o novo valor `value`"
      ]
    },
    {
      "cell_type": "code",
      "metadata": {
        "id": "maTwvOFx35Bc"
      },
      "source": [
        "# Implementation of the Array2D ADT using an array of arrays.\n",
        "'''\n",
        "  Cada linha do array 2-D é armazenado dentro de seu próprio array 1-D\n",
        "  Outro array 1-D é utilizado para armazenar referências para cada um dos\n",
        "  arrays utilizados para armazenar os elementos da linha\n",
        "'''\n",
        "\n",
        "class Array2D :\n",
        "  # Creates a 2-D array of size numRows x numCols\n",
        "  def __init__( self, numRows, numCols ):\n",
        "    # Create a 1-D array to store an array reference for each row\n",
        "    self._theRows = Array( numRows )\n",
        "\n",
        "    # Create the 1-D arrays for each row of the 2-D array.\n",
        "    for i in range( numRows ) :\n",
        "      self._theRows[i] = Array( numCols )\n",
        "  \n",
        "  # Returns the number of rows in the 2-D array\n",
        "  def numRows( self ):\n",
        "    return len( self._theRows )\n",
        "  \n",
        "  # Returns the number of columns in the 2-D array\n",
        "  def numCols( self ):\n",
        "    return len( self._theRows[0] )\n",
        "  \n",
        "  # Clears the array by setting every element to the given value\n",
        "  def clear( self, value ):\n",
        "    for row in range( self.numRows() ):\n",
        "      row.clear( value )\n",
        "  \n",
        "  # Gets the contents of the element at position [i, j]\n",
        "  def __getitem__( self, ndxTuple ):\n",
        "    assert len(ndxTuple) == 2, \"Invalid number of array subscripts.\"\n",
        "    row = ndxTuple[0]\n",
        "    col = ndxTuple[1]\n",
        "    assert row >= 0 and row < self.numRows() \\\n",
        "      and col >= 0 and col < self.numCols(), \\\n",
        "          \"Array subscript out of range.\"\n",
        "    the1dArray = self._theRows[row]\n",
        "    return the1dArray[col]\n",
        "  \n",
        "  # Sets the contents of the element at position [i,j] to value.\n",
        "  def __setitem__( self, ndxTuple, value ):\n",
        "    assert len(ndxTuple) == 2, \"Invalid number of array subscripts.\"\n",
        "    row = ndxTuple[0]\n",
        "    col = ndxTuple[1]\n",
        "    assert row >= 0 and row < self.numRows() \\\n",
        "      and col >= 0 and col < self.numCols(), \\\n",
        "          \"Array subscript out of range.\"\n",
        "    the1dArray = self._theRows[row]\n",
        "    the1dArray[col] = value"
      ],
      "execution_count": 19,
      "outputs": []
    },
    {
      "cell_type": "code",
      "metadata": {
        "id": "1JE3toi449TE"
      },
      "source": [
        "# implementation needed to extract the exam grades from the text file and store them into a 2-D array\n",
        "# Open the text file for reading.\n",
        "gradeFile = open( filename, \"r\" )\n",
        "\n",
        "# Extract the first two values which indicate the size of the array.\n",
        "numExams = int( gradeFile.readline() )\n",
        "numStudents = int( gradeFile.readline() )\n",
        "\n",
        "# Create the 2-D array to store the grades.\n",
        "examGrades = Array2D( numStudents, numExams )\n",
        "\n",
        "# Extract the grades from the remaining lines.\n",
        "i = 0\n",
        "for student in gradeFile :\n",
        "  grades = student.split()\n",
        "  for j in range( numExams ):\n",
        "    examGrades[i,j] = int( grades[j] )\n",
        "  i += 1\n",
        "\n",
        "# Close the text file.\n",
        "gradeFile.close()"
      ],
      "execution_count": null,
      "outputs": []
    },
    {
      "cell_type": "code",
      "metadata": {
        "id": "tLisKIWX5fQp"
      },
      "source": [
        "# Compute each student's average exam grade.\n",
        "for i in range( numStudents ) :\n",
        "  # Tally the exam grades for the ith student.\n",
        "  total = 0\n",
        "  for j in range( numExams ) :\n",
        "    total += examGrades[i,j]\n",
        "  \n",
        "  # Compute average for the ith student.\n",
        "  examAvg = total / numExams\n",
        "  print( \"%2d: %6.2f\" % (i+1, examAvg) )"
      ],
      "execution_count": null,
      "outputs": []
    },
    {
      "cell_type": "markdown",
      "metadata": {
        "id": "GeSpY_BV7MQ-"
      },
      "source": [
        "# 4. TAD Matriz\n",
        "\n",
        "Uma matriz é uma coleção de valores escalares arranjados em linhas e colunas como um grid retangular de tamanho fixo. Os elementos da matriz podem ser acessados especificando índices de linha e coluna, com índices começando em zero.\n",
        "\n",
        "* `Matrix(nrows,ncols)`: cria uma nova matriz contendo `nrows` e `ncols`, com cada elemento inicializando em 0\n",
        "\n",
        "* `numRows()`: retorna o nº de linhas na matriz\n",
        "\n",
        "* `numCols()`: retorna o número de colunas na matriz\n",
        "\n",
        "* `getitem(row,col)`: retorna o valor armazenado em dado elemento da matriz\n",
        "\n",
        "* `setitem(row,col,scalar)`: define o elemento da matriz de determinada linha e coluna para valor `scalar`\n",
        "\n",
        "* `scaleBy(scalar)`: multiplica cada elemento da matriz por um dado valor `scalar`\n",
        "\n",
        "* `transpose()`: retorna uma nova matriz que é a transposta da matriz original\n",
        "\n",
        "* `add(rhsMatrix)`: cria e retorna uma nova matriz, que é o resultado da adição desta matriz a determinado `rhsMatrix`. O tamanho das 2 matrizes deve ser o mesmo.\n",
        "\n",
        "* `subtract(rhsMatrix)`: semelhante à operação `add(rhsMatrix)`, contudo, o resultado passa a ser a subtraçaõ da matriz com um determinad `rhsMatrix`\n",
        "\n",
        "* `multiply(rhsMatrix)`: cria e retorna uma nova matriz que é o resultado da multiplicação desta matriz com um dado `rhsMatrix`"
      ]
    }
  ]
}